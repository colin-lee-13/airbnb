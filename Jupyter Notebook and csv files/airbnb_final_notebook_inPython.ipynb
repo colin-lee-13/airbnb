{
 "cells": [
  {
   "cell_type": "code",
   "execution_count": 1,
   "metadata": {
    "collapsed": true
   },
   "outputs": [],
   "source": [
    "#import packages\n",
    "import pandas as pd\n",
    "import numpy as np\n",
    "import matplotlib.pyplot as plt\n",
    "from textblob import TextBlob"
   ]
  },
  {
   "cell_type": "markdown",
   "metadata": {},
   "source": [
    "## Sentiment Analysis"
   ]
  },
  {
   "cell_type": "markdown",
   "metadata": {},
   "source": [
    "We are going to be using TextBlob to analyze the sentiment of Airbnb reviews that are comprised of text, just like a typical review that an Airbnb guest might leave on the Airbnb website. Now, let's understand how TextBlob works. TextBlob returns a sentiment score. The sentiment score falls within the range [-1, 1] where a score of -1 describes a completely negative sentiment, a score of 1 describes a completely positive sentiment, and a score of 0 describes a completely nuetral sentiment. I have listed 4 basic examples below of sentences with different sentiment."
   ]
  },
  {
   "cell_type": "code",
   "execution_count": 2,
   "metadata": {},
   "outputs": [
    {
     "name": "stdout",
     "output_type": "stream",
     "text": [
      "Statement:  I went to Burger King and the food was awesome\n",
      "Sentiment Score:  1.0\n"
     ]
    }
   ],
   "source": [
    "#examples of how TextBlob determines text sentiment\n",
    "#awesome, sentiment score = 1\n",
    "statement = \"I went to Burger King and the food was awesome\"\n",
    "sentiment = TextBlob(statement)\n",
    "print(\"Statement: \", statement)\n",
    "print(\"Sentiment Score: \", sentiment.polarity)"
   ]
  },
  {
   "cell_type": "code",
   "execution_count": 3,
   "metadata": {},
   "outputs": [
    {
     "name": "stdout",
     "output_type": "stream",
     "text": [
      "Statement:  I went to Burger King and the food was very good\n",
      "Sentiment Score:  0.9099999999999999\n"
     ]
    }
   ],
   "source": [
    "#very good, sentiment score = .91\n",
    "statement2 = \"I went to Burger King and the food was very good\"\n",
    "sentiment2 = TextBlob(statement2)\n",
    "print(\"Statement: \", statement2)\n",
    "print(\"Sentiment Score: \", sentiment2.polarity)"
   ]
  },
  {
   "cell_type": "code",
   "execution_count": 4,
   "metadata": {},
   "outputs": [
    {
     "name": "stdout",
     "output_type": "stream",
     "text": [
      "Statement:  I went to Burger King and the food was not good\n",
      "Sentiment Score:  -0.35\n"
     ]
    }
   ],
   "source": [
    "#not good, sentiment score = -.35\n",
    "statement3 = \"I went to Burger King and the food was not good\"\n",
    "sentiment3 = TextBlob(statement3)\n",
    "print(\"Statement: \", statement3)\n",
    "print(\"Sentiment Score: \", sentiment3.polarity)"
   ]
  },
  {
   "cell_type": "code",
   "execution_count": 5,
   "metadata": {},
   "outputs": [
    {
     "name": "stdout",
     "output_type": "stream",
     "text": [
      "Statement:  I went to Burger King and the food was awful\n",
      "Sentiment Score:  -1.0\n"
     ]
    }
   ],
   "source": [
    "#awful, sentiment score = -1\n",
    "statement4 = \"I went to Burger King and the food was awful\"\n",
    "sentiment4 = TextBlob(statement4)\n",
    "print(\"Statement: \", statement4)\n",
    "print(\"Sentiment Score: \", sentiment4.polarity)"
   ]
  },
  {
   "cell_type": "markdown",
   "metadata": {},
   "source": [
    "Now that we understand how TextBlob analyzes sentiment, let's take a look at our Airbnb data."
   ]
  },
  {
   "cell_type": "code",
   "execution_count": 6,
   "metadata": {},
   "outputs": [
    {
     "data": {
      "text/html": [
       "<div>\n",
       "<style scoped>\n",
       "    .dataframe tbody tr th:only-of-type {\n",
       "        vertical-align: middle;\n",
       "    }\n",
       "\n",
       "    .dataframe tbody tr th {\n",
       "        vertical-align: top;\n",
       "    }\n",
       "\n",
       "    .dataframe thead th {\n",
       "        text-align: right;\n",
       "    }\n",
       "</style>\n",
       "<table border=\"1\" class=\"dataframe\">\n",
       "  <thead>\n",
       "    <tr style=\"text-align: right;\">\n",
       "      <th></th>\n",
       "      <th>listing_id</th>\n",
       "      <th>url</th>\n",
       "      <th>review_posted_date</th>\n",
       "      <th>review</th>\n",
       "    </tr>\n",
       "  </thead>\n",
       "  <tbody>\n",
       "    <tr>\n",
       "      <th>0</th>\n",
       "      <td>2595</td>\n",
       "      <td>https://www.airbnb.com/rooms/2595</td>\n",
       "      <td>November 2019</td>\n",
       "      <td>Great location, convenient to everything. Very...</td>\n",
       "    </tr>\n",
       "    <tr>\n",
       "      <th>1</th>\n",
       "      <td>2595</td>\n",
       "      <td>https://www.airbnb.com/rooms/2595</td>\n",
       "      <td>May 2019</td>\n",
       "      <td>Place was so cute and comfy! Host was great an...</td>\n",
       "    </tr>\n",
       "    <tr>\n",
       "      <th>2</th>\n",
       "      <td>2595</td>\n",
       "      <td>https://www.airbnb.com/rooms/2595</td>\n",
       "      <td>May 2019</td>\n",
       "      <td>10 / 10 would stay again</td>\n",
       "    </tr>\n",
       "    <tr>\n",
       "      <th>3</th>\n",
       "      <td>2595</td>\n",
       "      <td>https://www.airbnb.com/rooms/2595</td>\n",
       "      <td>January 2019</td>\n",
       "      <td>The apartment met expectations to how it was i...</td>\n",
       "    </tr>\n",
       "    <tr>\n",
       "      <th>4</th>\n",
       "      <td>2595</td>\n",
       "      <td>https://www.airbnb.com/rooms/2595</td>\n",
       "      <td>December 2018</td>\n",
       "      <td>Great space in a fun old building in NYC. Love...</td>\n",
       "    </tr>\n",
       "  </tbody>\n",
       "</table>\n",
       "</div>"
      ],
      "text/plain": [
       "   listing_id                                url review_posted_date  \\\n",
       "0        2595  https://www.airbnb.com/rooms/2595      November 2019   \n",
       "1        2595  https://www.airbnb.com/rooms/2595           May 2019   \n",
       "2        2595  https://www.airbnb.com/rooms/2595           May 2019   \n",
       "3        2595  https://www.airbnb.com/rooms/2595       January 2019   \n",
       "4        2595  https://www.airbnb.com/rooms/2595      December 2018   \n",
       "\n",
       "                                              review  \n",
       "0  Great location, convenient to everything. Very...  \n",
       "1  Place was so cute and comfy! Host was great an...  \n",
       "2                           10 / 10 would stay again  \n",
       "3  The apartment met expectations to how it was i...  \n",
       "4  Great space in a fun old building in NYC. Love...  "
      ]
     },
     "execution_count": 6,
     "metadata": {},
     "output_type": "execute_result"
    }
   ],
   "source": [
    "#read in and look at data\n",
    "airbnb = pd.read_csv(\"NYC_2021_airbnb_reviews_data1.csv\")\n",
    "airbnb.head()"
   ]
  },
  {
   "cell_type": "markdown",
   "metadata": {},
   "source": [
    "## EDA (exploratory data analysis)"
   ]
  },
  {
   "cell_type": "code",
   "execution_count": 7,
   "metadata": {},
   "outputs": [
    {
     "name": "stdout",
     "output_type": "stream",
     "text": [
      "<class 'pandas.core.frame.DataFrame'>\n",
      "RangeIndex: 17444 entries, 0 to 17443\n",
      "Data columns (total 4 columns):\n",
      " #   Column              Non-Null Count  Dtype \n",
      "---  ------              --------------  ----- \n",
      " 0   listing_id          17444 non-null  int64 \n",
      " 1   url                 17444 non-null  object\n",
      " 2   review_posted_date  17444 non-null  object\n",
      " 3   review              17444 non-null  object\n",
      "dtypes: int64(1), object(3)\n",
      "memory usage: 545.2+ KB\n"
     ]
    }
   ],
   "source": [
    "#check for NA's and data types\n",
    "airbnb.info()"
   ]
  },
  {
   "cell_type": "code",
   "execution_count": 8,
   "metadata": {},
   "outputs": [
    {
     "data": {
      "text/plain": [
       "(17444, 4)"
      ]
     },
     "execution_count": 8,
     "metadata": {},
     "output_type": "execute_result"
    }
   ],
   "source": [
    "#check shape of dataframe\n",
    "airbnb.shape"
   ]
  },
  {
   "cell_type": "code",
   "execution_count": 9,
   "metadata": {},
   "outputs": [
    {
     "data": {
      "text/html": [
       "<div>\n",
       "<style scoped>\n",
       "    .dataframe tbody tr th:only-of-type {\n",
       "        vertical-align: middle;\n",
       "    }\n",
       "\n",
       "    .dataframe tbody tr th {\n",
       "        vertical-align: top;\n",
       "    }\n",
       "\n",
       "    .dataframe thead th {\n",
       "        text-align: right;\n",
       "    }\n",
       "</style>\n",
       "<table border=\"1\" class=\"dataframe\">\n",
       "  <thead>\n",
       "    <tr style=\"text-align: right;\">\n",
       "      <th></th>\n",
       "      <th>listing_id</th>\n",
       "    </tr>\n",
       "  </thead>\n",
       "  <tbody>\n",
       "    <tr>\n",
       "      <th>count</th>\n",
       "      <td>1.744400e+04</td>\n",
       "    </tr>\n",
       "    <tr>\n",
       "      <th>mean</th>\n",
       "      <td>3.023876e+05</td>\n",
       "    </tr>\n",
       "    <tr>\n",
       "      <th>std</th>\n",
       "      <td>4.549987e+05</td>\n",
       "    </tr>\n",
       "    <tr>\n",
       "      <th>min</th>\n",
       "      <td>2.595000e+03</td>\n",
       "    </tr>\n",
       "    <tr>\n",
       "      <th>25%</th>\n",
       "      <td>1.682100e+04</td>\n",
       "    </tr>\n",
       "    <tr>\n",
       "      <th>50%</th>\n",
       "      <td>1.411540e+05</td>\n",
       "    </tr>\n",
       "    <tr>\n",
       "      <th>75%</th>\n",
       "      <td>2.326120e+05</td>\n",
       "    </tr>\n",
       "    <tr>\n",
       "      <th>max</th>\n",
       "      <td>1.918693e+06</td>\n",
       "    </tr>\n",
       "  </tbody>\n",
       "</table>\n",
       "</div>"
      ],
      "text/plain": [
       "         listing_id\n",
       "count  1.744400e+04\n",
       "mean   3.023876e+05\n",
       "std    4.549987e+05\n",
       "min    2.595000e+03\n",
       "25%    1.682100e+04\n",
       "50%    1.411540e+05\n",
       "75%    2.326120e+05\n",
       "max    1.918693e+06"
      ]
     },
     "execution_count": 9,
     "metadata": {},
     "output_type": "execute_result"
    }
   ],
   "source": [
    "#describe numerical features\n",
    "airbnb.describe()"
   ]
  },
  {
   "cell_type": "markdown",
   "metadata": {},
   "source": [
    "##### number of different listings"
   ]
  },
  {
   "cell_type": "code",
   "execution_count": 10,
   "metadata": {},
   "outputs": [
    {
     "data": {
      "text/plain": [
       "219"
      ]
     },
     "execution_count": 10,
     "metadata": {},
     "output_type": "execute_result"
    }
   ],
   "source": [
    "#how many unique airbnb listings\n",
    "len(airbnb['listing_id'].unique())"
   ]
  },
  {
   "cell_type": "markdown",
   "metadata": {},
   "source": [
    "##### total number of reviews"
   ]
  },
  {
   "cell_type": "code",
   "execution_count": 11,
   "metadata": {},
   "outputs": [
    {
     "data": {
      "text/plain": [
       "17444"
      ]
     },
     "execution_count": 11,
     "metadata": {},
     "output_type": "execute_result"
    }
   ],
   "source": [
    "#find number of entries in dataframe\n",
    "len(airbnb)"
   ]
  },
  {
   "cell_type": "markdown",
   "metadata": {},
   "source": [
    "Now we want to get sentiment scores for all the reviews in this dataset."
   ]
  },
  {
   "cell_type": "code",
   "execution_count": 12,
   "metadata": {},
   "outputs": [],
   "source": [
    "#loop through dataset and get sentiment and subjectivity scores\n",
    "score = []\n",
    "for i in range(0,len(airbnb)):\n",
    "    statement = airbnb['review'][i]\n",
    "    sentiment = TextBlob(statement)\n",
    "    score.append(sentiment.sentiment.polarity)\n",
    "#score"
   ]
  },
  {
   "cell_type": "code",
   "execution_count": 13,
   "metadata": {
    "collapsed": true
   },
   "outputs": [],
   "source": [
    "#add sentiment scores to dataframe\n",
    "airbnb['sentiment_score'] = score\n",
    "#round sentiment and subjectivity scores\n",
    "airbnb['sentiment_score'] = round(airbnb['sentiment_score'],2)"
   ]
  },
  {
   "cell_type": "code",
   "execution_count": 14,
   "metadata": {},
   "outputs": [
    {
     "data": {
      "text/html": [
       "<div>\n",
       "<style scoped>\n",
       "    .dataframe tbody tr th:only-of-type {\n",
       "        vertical-align: middle;\n",
       "    }\n",
       "\n",
       "    .dataframe tbody tr th {\n",
       "        vertical-align: top;\n",
       "    }\n",
       "\n",
       "    .dataframe thead th {\n",
       "        text-align: right;\n",
       "    }\n",
       "</style>\n",
       "<table border=\"1\" class=\"dataframe\">\n",
       "  <thead>\n",
       "    <tr style=\"text-align: right;\">\n",
       "      <th></th>\n",
       "      <th>listing_id</th>\n",
       "      <th>url</th>\n",
       "      <th>review_posted_date</th>\n",
       "      <th>review</th>\n",
       "      <th>sentiment_score</th>\n",
       "      <th>review_count</th>\n",
       "    </tr>\n",
       "  </thead>\n",
       "  <tbody>\n",
       "    <tr>\n",
       "      <th>0</th>\n",
       "      <td>2595</td>\n",
       "      <td>https://www.airbnb.com/rooms/2595</td>\n",
       "      <td>November 2019</td>\n",
       "      <td>Great location, convenient to everything. Very...</td>\n",
       "      <td>0.63</td>\n",
       "      <td>48</td>\n",
       "    </tr>\n",
       "    <tr>\n",
       "      <th>1</th>\n",
       "      <td>2595</td>\n",
       "      <td>https://www.airbnb.com/rooms/2595</td>\n",
       "      <td>May 2019</td>\n",
       "      <td>Place was so cute and comfy! Host was great an...</td>\n",
       "      <td>0.46</td>\n",
       "      <td>48</td>\n",
       "    </tr>\n",
       "    <tr>\n",
       "      <th>2</th>\n",
       "      <td>2595</td>\n",
       "      <td>https://www.airbnb.com/rooms/2595</td>\n",
       "      <td>May 2019</td>\n",
       "      <td>10 / 10 would stay again</td>\n",
       "      <td>0.00</td>\n",
       "      <td>48</td>\n",
       "    </tr>\n",
       "    <tr>\n",
       "      <th>3</th>\n",
       "      <td>2595</td>\n",
       "      <td>https://www.airbnb.com/rooms/2595</td>\n",
       "      <td>January 2019</td>\n",
       "      <td>The apartment met expectations to how it was i...</td>\n",
       "      <td>0.08</td>\n",
       "      <td>48</td>\n",
       "    </tr>\n",
       "    <tr>\n",
       "      <th>4</th>\n",
       "      <td>2595</td>\n",
       "      <td>https://www.airbnb.com/rooms/2595</td>\n",
       "      <td>December 2018</td>\n",
       "      <td>Great space in a fun old building in NYC. Love...</td>\n",
       "      <td>0.48</td>\n",
       "      <td>48</td>\n",
       "    </tr>\n",
       "  </tbody>\n",
       "</table>\n",
       "</div>"
      ],
      "text/plain": [
       "   listing_id                                url review_posted_date  \\\n",
       "0        2595  https://www.airbnb.com/rooms/2595      November 2019   \n",
       "1        2595  https://www.airbnb.com/rooms/2595           May 2019   \n",
       "2        2595  https://www.airbnb.com/rooms/2595           May 2019   \n",
       "3        2595  https://www.airbnb.com/rooms/2595       January 2019   \n",
       "4        2595  https://www.airbnb.com/rooms/2595      December 2018   \n",
       "\n",
       "                                              review  sentiment_score  \\\n",
       "0  Great location, convenient to everything. Very...             0.63   \n",
       "1  Place was so cute and comfy! Host was great an...             0.46   \n",
       "2                           10 / 10 would stay again             0.00   \n",
       "3  The apartment met expectations to how it was i...             0.08   \n",
       "4  Great space in a fun old building in NYC. Love...             0.48   \n",
       "\n",
       "   review_count  \n",
       "0            48  \n",
       "1            48  \n",
       "2            48  \n",
       "3            48  \n",
       "4            48  "
      ]
     },
     "execution_count": 14,
     "metadata": {},
     "output_type": "execute_result"
    }
   ],
   "source": [
    "#create 'review_count' variable to record how many reviews were submitted for that specific listing_id\n",
    "airbnb['review_count'] = airbnb.groupby('listing_id')['listing_id'].transform('count') \n",
    "airbnb.head()"
   ]
  },
  {
   "cell_type": "markdown",
   "metadata": {},
   "source": [
    "Now let's take a look at the first few entries and see what TextBlob returned."
   ]
  },
  {
   "cell_type": "code",
   "execution_count": 15,
   "metadata": {},
   "outputs": [
    {
     "name": "stdout",
     "output_type": "stream",
     "text": [
      "Review:  Great location, convenient to everything. Very cool space and building.\n",
      "Sentiment Score:  0.63\n"
     ]
    }
   ],
   "source": [
    "#1st entry\n",
    "print(\"Review: \", airbnb['review'][0])\n",
    "print(\"Sentiment Score: \", airbnb['sentiment_score'][0])"
   ]
  },
  {
   "cell_type": "markdown",
   "metadata": {},
   "source": [
    "This first review clearly is giving off a positive sentiment. TextBlob correctly classifies it as such. There is no negative sentiment so we might think that the sentiment score should be 1. But as I showed in the basic examples earlier, to acheive a sentiment score of 1, you need to use words like 'awesome' or 'fantastic'. This review used words like 'great', 'convenient', and 'very cool', which is why the sentiment is positive, but not as positive as it could be."
   ]
  },
  {
   "cell_type": "code",
   "execution_count": 16,
   "metadata": {},
   "outputs": [
    {
     "name": "stdout",
     "output_type": "stream",
     "text": [
      "Review:  Place was so cute and comfy! Host was great and was quick to communicate when I had questions. Quick walk to the subway and only about 5 min walk to the Empire State Building. Overall great stay and host was amazing!\n",
      "Sentiment Score:  0.46\n"
     ]
    }
   ],
   "source": [
    "#2nd entry\n",
    "print(\"Review: \", airbnb['review'][1])\n",
    "print(\"Sentiment Score: \", airbnb['sentiment_score'][1])"
   ]
  },
  {
   "cell_type": "markdown",
   "metadata": {},
   "source": [
    "This seems like a completely positive review that doesn't contain a single negative sentiment. However, words like 'questions' and 'only' can have a negative sentiment in a different context. Overall, TextBlob correctly classifies this statement as having a positive sentiment, but maybe not as positive as it should be."
   ]
  },
  {
   "cell_type": "code",
   "execution_count": 17,
   "metadata": {},
   "outputs": [
    {
     "name": "stdout",
     "output_type": "stream",
     "text": [
      "Review:  10 / 10 would stay again\n",
      "Sentiment Score:  0.0\n"
     ]
    }
   ],
   "source": [
    "#3rd entry\n",
    "print(\"Review: \", airbnb['review'][2])\n",
    "print(\"Sentiment Score: \", airbnb['sentiment_score'][2])"
   ]
  },
  {
   "cell_type": "markdown",
   "metadata": {},
   "source": [
    "This is obviously a very positive review, TextBlob doesn't understand that '10/10' is a completely positive sentiment. This is a negative of working with an out-of-the-box sentiment analyzer. Not every text statement will contain a key word that TextBlob can use to classify sentiment as either positive or negative. We will see issues like this, but most statements can be classified."
   ]
  },
  {
   "cell_type": "markdown",
   "metadata": {},
   "source": [
    "Now let's take a look at the distribution of sentiment scores."
   ]
  },
  {
   "cell_type": "code",
   "execution_count": 18,
   "metadata": {},
   "outputs": [
    {
     "data": {
      "text/html": [
       "<div>\n",
       "<style scoped>\n",
       "    .dataframe tbody tr th:only-of-type {\n",
       "        vertical-align: middle;\n",
       "    }\n",
       "\n",
       "    .dataframe tbody tr th {\n",
       "        vertical-align: top;\n",
       "    }\n",
       "\n",
       "    .dataframe thead th {\n",
       "        text-align: right;\n",
       "    }\n",
       "</style>\n",
       "<table border=\"1\" class=\"dataframe\">\n",
       "  <thead>\n",
       "    <tr style=\"text-align: right;\">\n",
       "      <th></th>\n",
       "      <th>listing_id</th>\n",
       "      <th>sentiment_score</th>\n",
       "      <th>review_count</th>\n",
       "    </tr>\n",
       "  </thead>\n",
       "  <tbody>\n",
       "    <tr>\n",
       "      <th>count</th>\n",
       "      <td>1.744400e+04</td>\n",
       "      <td>17444.000000</td>\n",
       "      <td>17444.000000</td>\n",
       "    </tr>\n",
       "    <tr>\n",
       "      <th>mean</th>\n",
       "      <td>3.023876e+05</td>\n",
       "      <td>0.387924</td>\n",
       "      <td>200.292937</td>\n",
       "    </tr>\n",
       "    <tr>\n",
       "      <th>std</th>\n",
       "      <td>4.549987e+05</td>\n",
       "      <td>0.212449</td>\n",
       "      <td>147.628087</td>\n",
       "    </tr>\n",
       "    <tr>\n",
       "      <th>min</th>\n",
       "      <td>2.595000e+03</td>\n",
       "      <td>-1.000000</td>\n",
       "      <td>1.000000</td>\n",
       "    </tr>\n",
       "    <tr>\n",
       "      <th>25%</th>\n",
       "      <td>1.682100e+04</td>\n",
       "      <td>0.270000</td>\n",
       "      <td>87.000000</td>\n",
       "    </tr>\n",
       "    <tr>\n",
       "      <th>50%</th>\n",
       "      <td>1.411540e+05</td>\n",
       "      <td>0.380000</td>\n",
       "      <td>165.000000</td>\n",
       "    </tr>\n",
       "    <tr>\n",
       "      <th>75%</th>\n",
       "      <td>2.326120e+05</td>\n",
       "      <td>0.500000</td>\n",
       "      <td>258.000000</td>\n",
       "    </tr>\n",
       "    <tr>\n",
       "      <th>max</th>\n",
       "      <td>1.918693e+06</td>\n",
       "      <td>1.000000</td>\n",
       "      <td>630.000000</td>\n",
       "    </tr>\n",
       "  </tbody>\n",
       "</table>\n",
       "</div>"
      ],
      "text/plain": [
       "         listing_id  sentiment_score  review_count\n",
       "count  1.744400e+04     17444.000000  17444.000000\n",
       "mean   3.023876e+05         0.387924    200.292937\n",
       "std    4.549987e+05         0.212449    147.628087\n",
       "min    2.595000e+03        -1.000000      1.000000\n",
       "25%    1.682100e+04         0.270000     87.000000\n",
       "50%    1.411540e+05         0.380000    165.000000\n",
       "75%    2.326120e+05         0.500000    258.000000\n",
       "max    1.918693e+06         1.000000    630.000000"
      ]
     },
     "execution_count": 18,
     "metadata": {},
     "output_type": "execute_result"
    }
   ],
   "source": [
    "#describe data\n",
    "airbnb.describe()"
   ]
  },
  {
   "cell_type": "code",
   "execution_count": 19,
   "metadata": {},
   "outputs": [
    {
     "data": {
      "image/png": "[encoded data removed]",
      "text/plain": [
       "<matplotlib.figure.Figure at 0x1d38b0527f0>"
      ]
     },
     "metadata": {},
     "output_type": "display_data"
    }
   ],
   "source": [
    "#distribution of sentiment scores\n",
    "plt.style.use('fivethirtyeight')#changes plot style for future plots\n",
    "plt.hist(airbnb['sentiment_score'], bins=8)\n",
    "plt.title('Distribution of Sentiment Scores')\n",
    "plt.xlabel('Sentiment Score')\n",
    "plt.ylabel('Number of Instances')\n",
    "plt.show()"
   ]
  },
  {
   "cell_type": "markdown",
   "metadata": {},
   "source": [
    "Here we can see that the Sentiment Scores distribution skews postive and has an average value of 0.39. Below we can see the total number of negative, neutral, and positive reviews."
   ]
  },
  {
   "cell_type": "markdown",
   "metadata": {},
   "source": [
    "##### number of negative reviews"
   ]
  },
  {
   "cell_type": "code",
   "execution_count": 20,
   "metadata": {},
   "outputs": [
    {
     "data": {
      "text/plain": [
       "204"
      ]
     },
     "execution_count": 20,
     "metadata": {},
     "output_type": "execute_result"
    }
   ],
   "source": [
    "len(airbnb[airbnb['sentiment_score'] < 0])"
   ]
  },
  {
   "cell_type": "markdown",
   "metadata": {},
   "source": [
    "##### number of neutral reviews"
   ]
  },
  {
   "cell_type": "code",
   "execution_count": 21,
   "metadata": {},
   "outputs": [
    {
     "data": {
      "text/plain": [
       "1065"
      ]
     },
     "execution_count": 21,
     "metadata": {},
     "output_type": "execute_result"
    }
   ],
   "source": [
    "len(airbnb[airbnb['sentiment_score'] == 0])"
   ]
  },
  {
   "cell_type": "markdown",
   "metadata": {},
   "source": [
    "##### number of positive reviews"
   ]
  },
  {
   "cell_type": "code",
   "execution_count": 22,
   "metadata": {},
   "outputs": [
    {
     "data": {
      "text/plain": [
       "16175"
      ]
     },
     "execution_count": 22,
     "metadata": {},
     "output_type": "execute_result"
    }
   ],
   "source": [
    "len(airbnb[airbnb['sentiment_score'] > 0])"
   ]
  },
  {
   "cell_type": "markdown",
   "metadata": {
    "collapsed": true
   },
   "source": [
    "Let's look at which properties have the best (and worst) Average Sentiment Scores."
   ]
  },
  {
   "cell_type": "code",
   "execution_count": 23,
   "metadata": {},
   "outputs": [
    {
     "data": {
      "text/html": [
       "<div>\n",
       "<style scoped>\n",
       "    .dataframe tbody tr th:only-of-type {\n",
       "        vertical-align: middle;\n",
       "    }\n",
       "\n",
       "    .dataframe tbody tr th {\n",
       "        vertical-align: top;\n",
       "    }\n",
       "\n",
       "    .dataframe thead th {\n",
       "        text-align: right;\n",
       "    }\n",
       "</style>\n",
       "<table border=\"1\" class=\"dataframe\">\n",
       "  <thead>\n",
       "    <tr style=\"text-align: right;\">\n",
       "      <th></th>\n",
       "      <th>sentiment_score</th>\n",
       "      <th>review_count</th>\n",
       "    </tr>\n",
       "    <tr>\n",
       "      <th>listing_id</th>\n",
       "      <th></th>\n",
       "      <th></th>\n",
       "    </tr>\n",
       "  </thead>\n",
       "  <tbody>\n",
       "    <tr>\n",
       "      <th>2595</th>\n",
       "      <td>0.337500</td>\n",
       "      <td>48</td>\n",
       "    </tr>\n",
       "    <tr>\n",
       "      <th>5121</th>\n",
       "      <td>0.423600</td>\n",
       "      <td>50</td>\n",
       "    </tr>\n",
       "    <tr>\n",
       "      <th>5178</th>\n",
       "      <td>0.394416</td>\n",
       "      <td>231</td>\n",
       "    </tr>\n",
       "    <tr>\n",
       "      <th>5203</th>\n",
       "      <td>0.424407</td>\n",
       "      <td>118</td>\n",
       "    </tr>\n",
       "    <tr>\n",
       "      <th>5803</th>\n",
       "      <td>0.411019</td>\n",
       "      <td>206</td>\n",
       "    </tr>\n",
       "    <tr>\n",
       "      <th>...</th>\n",
       "      <td>...</td>\n",
       "      <td>...</td>\n",
       "    </tr>\n",
       "    <tr>\n",
       "      <th>1910270</th>\n",
       "      <td>0.585714</td>\n",
       "      <td>7</td>\n",
       "    </tr>\n",
       "    <tr>\n",
       "      <th>1913540</th>\n",
       "      <td>0.200000</td>\n",
       "      <td>2</td>\n",
       "    </tr>\n",
       "    <tr>\n",
       "      <th>1914185</th>\n",
       "      <td>0.378636</td>\n",
       "      <td>22</td>\n",
       "    </tr>\n",
       "    <tr>\n",
       "      <th>1914231</th>\n",
       "      <td>0.373929</td>\n",
       "      <td>28</td>\n",
       "    </tr>\n",
       "    <tr>\n",
       "      <th>1918693</th>\n",
       "      <td>0.468571</td>\n",
       "      <td>7</td>\n",
       "    </tr>\n",
       "  </tbody>\n",
       "</table>\n",
       "<p>219 rows × 2 columns</p>\n",
       "</div>"
      ],
      "text/plain": [
       "            sentiment_score  review_count\n",
       "listing_id                               \n",
       "2595               0.337500            48\n",
       "5121               0.423600            50\n",
       "5178               0.394416           231\n",
       "5203               0.424407           118\n",
       "5803               0.411019           206\n",
       "...                     ...           ...\n",
       "1910270            0.585714             7\n",
       "1913540            0.200000             2\n",
       "1914185            0.378636            22\n",
       "1914231            0.373929            28\n",
       "1918693            0.468571             7\n",
       "\n",
       "[219 rows x 2 columns]"
      ]
     },
     "execution_count": 23,
     "metadata": {},
     "output_type": "execute_result"
    }
   ],
   "source": [
    "#group df by listing_id, get avg scores of each listing_id\n",
    "#grouping only includes numerical variables\n",
    "avg_scores = airbnb.groupby(['listing_id']).mean()\n",
    "avg_scores"
   ]
  },
  {
   "cell_type": "code",
   "execution_count": 24,
   "metadata": {
    "collapsed": true
   },
   "outputs": [],
   "source": [
    "#reset index\n",
    "avg_scores.reset_index(inplace=True)"
   ]
  },
  {
   "cell_type": "code",
   "execution_count": 25,
   "metadata": {},
   "outputs": [
    {
     "name": "stdout",
     "output_type": "stream",
     "text": [
      "     listing_id  sentiment_score  review_count\n",
      "0          2595         0.337500            48\n",
      "1          5121         0.423600            50\n",
      "2          5178         0.394416           231\n",
      "3          5203         0.424407           118\n",
      "4          5803         0.411019           206\n",
      "..          ...              ...           ...\n",
      "214     1910270         0.585714             7\n",
      "215     1913540         0.200000             2\n",
      "216     1914185         0.378636            22\n",
      "217     1914231         0.373929            28\n",
      "218     1918693         0.468571             7\n",
      "\n",
      "[219 rows x 3 columns]\n"
     ]
    }
   ],
   "source": [
    "#show re-indexed dataframe\n",
    "print(avg_scores)"
   ]
  },
  {
   "cell_type": "code",
   "execution_count": 26,
   "metadata": {},
   "outputs": [
    {
     "data": {
      "text/html": [
       "<div>\n",
       "<style scoped>\n",
       "    .dataframe tbody tr th:only-of-type {\n",
       "        vertical-align: middle;\n",
       "    }\n",
       "\n",
       "    .dataframe tbody tr th {\n",
       "        vertical-align: top;\n",
       "    }\n",
       "\n",
       "    .dataframe thead th {\n",
       "        text-align: right;\n",
       "    }\n",
       "</style>\n",
       "<table border=\"1\" class=\"dataframe\">\n",
       "  <thead>\n",
       "    <tr style=\"text-align: right;\">\n",
       "      <th></th>\n",
       "      <th>listing_id</th>\n",
       "      <th>sentiment_score</th>\n",
       "      <th>review_count</th>\n",
       "    </tr>\n",
       "  </thead>\n",
       "  <tbody>\n",
       "    <tr>\n",
       "      <th>172</th>\n",
       "      <td>862890</td>\n",
       "      <td>0.675000</td>\n",
       "      <td>4</td>\n",
       "    </tr>\n",
       "    <tr>\n",
       "      <th>214</th>\n",
       "      <td>1910270</td>\n",
       "      <td>0.585714</td>\n",
       "      <td>7</td>\n",
       "    </tr>\n",
       "    <tr>\n",
       "      <th>187</th>\n",
       "      <td>1215836</td>\n",
       "      <td>0.560000</td>\n",
       "      <td>1</td>\n",
       "    </tr>\n",
       "    <tr>\n",
       "      <th>150</th>\n",
       "      <td>788005</td>\n",
       "      <td>0.547368</td>\n",
       "      <td>19</td>\n",
       "    </tr>\n",
       "    <tr>\n",
       "      <th>145</th>\n",
       "      <td>245574</td>\n",
       "      <td>0.545714</td>\n",
       "      <td>7</td>\n",
       "    </tr>\n",
       "  </tbody>\n",
       "</table>\n",
       "</div>"
      ],
      "text/plain": [
       "     listing_id  sentiment_score  review_count\n",
       "172      862890         0.675000             4\n",
       "214     1910270         0.585714             7\n",
       "187     1215836         0.560000             1\n",
       "150      788005         0.547368            19\n",
       "145      245574         0.545714             7"
      ]
     },
     "execution_count": 26,
     "metadata": {},
     "output_type": "execute_result"
    }
   ],
   "source": [
    "#Top 5 Locations based on Avg. Sentiment Score\n",
    "avg_scores.sort_values(by='sentiment_score', ascending=False)[['listing_id', 'sentiment_score', 'review_count']].head()"
   ]
  },
  {
   "cell_type": "code",
   "execution_count": 27,
   "metadata": {},
   "outputs": [
    {
     "data": {
      "text/html": [
       "<div>\n",
       "<style scoped>\n",
       "    .dataframe tbody tr th:only-of-type {\n",
       "        vertical-align: middle;\n",
       "    }\n",
       "\n",
       "    .dataframe tbody tr th {\n",
       "        vertical-align: top;\n",
       "    }\n",
       "\n",
       "    .dataframe thead th {\n",
       "        text-align: right;\n",
       "    }\n",
       "</style>\n",
       "<table border=\"1\" class=\"dataframe\">\n",
       "  <thead>\n",
       "    <tr style=\"text-align: right;\">\n",
       "      <th></th>\n",
       "      <th>listing_id</th>\n",
       "      <th>sentiment_score</th>\n",
       "      <th>review_count</th>\n",
       "    </tr>\n",
       "  </thead>\n",
       "  <tbody>\n",
       "    <tr>\n",
       "      <th>193</th>\n",
       "      <td>1252826</td>\n",
       "      <td>0.000000</td>\n",
       "      <td>1</td>\n",
       "    </tr>\n",
       "    <tr>\n",
       "      <th>107</th>\n",
       "      <td>214917</td>\n",
       "      <td>0.025000</td>\n",
       "      <td>2</td>\n",
       "    </tr>\n",
       "    <tr>\n",
       "      <th>200</th>\n",
       "      <td>1869685</td>\n",
       "      <td>0.036667</td>\n",
       "      <td>9</td>\n",
       "    </tr>\n",
       "    <tr>\n",
       "      <th>159</th>\n",
       "      <td>794535</td>\n",
       "      <td>0.096667</td>\n",
       "      <td>3</td>\n",
       "    </tr>\n",
       "    <tr>\n",
       "      <th>195</th>\n",
       "      <td>1256670</td>\n",
       "      <td>0.100000</td>\n",
       "      <td>3</td>\n",
       "    </tr>\n",
       "  </tbody>\n",
       "</table>\n",
       "</div>"
      ],
      "text/plain": [
       "     listing_id  sentiment_score  review_count\n",
       "193     1252826         0.000000             1\n",
       "107      214917         0.025000             2\n",
       "200     1869685         0.036667             9\n",
       "159      794535         0.096667             3\n",
       "195     1256670         0.100000             3"
      ]
     },
     "execution_count": 27,
     "metadata": {},
     "output_type": "execute_result"
    }
   ],
   "source": [
    "#Bottom 5 Locations based on Avg. Sentiment Score\n",
    "avg_scores.sort_values(by='sentiment_score', ascending=True)[['listing_id', 'sentiment_score', 'review_count']].head()"
   ]
  },
  {
   "cell_type": "markdown",
   "metadata": {
    "collapsed": true
   },
   "source": [
    "Let's review examples from top and bottom 5 lists."
   ]
  },
  {
   "cell_type": "code",
   "execution_count": 28,
   "metadata": {},
   "outputs": [
    {
     "data": {
      "text/html": [
       "<div>\n",
       "<style scoped>\n",
       "    .dataframe tbody tr th:only-of-type {\n",
       "        vertical-align: middle;\n",
       "    }\n",
       "\n",
       "    .dataframe tbody tr th {\n",
       "        vertical-align: top;\n",
       "    }\n",
       "\n",
       "    .dataframe thead th {\n",
       "        text-align: right;\n",
       "    }\n",
       "</style>\n",
       "<table border=\"1\" class=\"dataframe\">\n",
       "  <thead>\n",
       "    <tr style=\"text-align: right;\">\n",
       "      <th></th>\n",
       "      <th>listing_id</th>\n",
       "      <th>url</th>\n",
       "      <th>review_posted_date</th>\n",
       "      <th>review</th>\n",
       "      <th>sentiment_score</th>\n",
       "      <th>review_count</th>\n",
       "    </tr>\n",
       "  </thead>\n",
       "  <tbody>\n",
       "    <tr>\n",
       "      <th>15301</th>\n",
       "      <td>862890</td>\n",
       "      <td>https://www.airbnb.com/rooms/862890</td>\n",
       "      <td>October 2020</td>\n",
       "      <td>Great space, location and host!</td>\n",
       "      <td>1.00</td>\n",
       "      <td>4</td>\n",
       "    </tr>\n",
       "    <tr>\n",
       "      <th>15302</th>\n",
       "      <td>862890</td>\n",
       "      <td>https://www.airbnb.com/rooms/862890</td>\n",
       "      <td>May 2019</td>\n",
       "      <td>I had an amazing stay with Rachel &amp; I would do...</td>\n",
       "      <td>0.78</td>\n",
       "      <td>4</td>\n",
       "    </tr>\n",
       "    <tr>\n",
       "      <th>15303</th>\n",
       "      <td>862890</td>\n",
       "      <td>https://www.airbnb.com/rooms/862890</td>\n",
       "      <td>November 2017</td>\n",
       "      <td>I highly recommend the AirBnB from Rachel…You ...</td>\n",
       "      <td>0.25</td>\n",
       "      <td>4</td>\n",
       "    </tr>\n",
       "    <tr>\n",
       "      <th>15304</th>\n",
       "      <td>862890</td>\n",
       "      <td>https://www.airbnb.com/rooms/862890</td>\n",
       "      <td>October 2017</td>\n",
       "      <td>Kaya is fabulous - very kind, welcoming and ea...</td>\n",
       "      <td>0.67</td>\n",
       "      <td>4</td>\n",
       "    </tr>\n",
       "  </tbody>\n",
       "</table>\n",
       "</div>"
      ],
      "text/plain": [
       "       listing_id                                  url review_posted_date  \\\n",
       "15301      862890  https://www.airbnb.com/rooms/862890       October 2020   \n",
       "15302      862890  https://www.airbnb.com/rooms/862890           May 2019   \n",
       "15303      862890  https://www.airbnb.com/rooms/862890      November 2017   \n",
       "15304      862890  https://www.airbnb.com/rooms/862890       October 2017   \n",
       "\n",
       "                                                  review  sentiment_score  \\\n",
       "15301                    Great space, location and host!             1.00   \n",
       "15302  I had an amazing stay with Rachel & I would do...             0.78   \n",
       "15303  I highly recommend the AirBnB from Rachel…You ...             0.25   \n",
       "15304  Kaya is fabulous - very kind, welcoming and ea...             0.67   \n",
       "\n",
       "       review_count  \n",
       "15301             4  \n",
       "15302             4  \n",
       "15303             4  \n",
       "15304             4  "
      ]
     },
     "execution_count": 28,
     "metadata": {},
     "output_type": "execute_result"
    }
   ],
   "source": [
    "#reviews from top rated location\n",
    "airbnb[airbnb['listing_id'] == 862890]"
   ]
  },
  {
   "cell_type": "markdown",
   "metadata": {},
   "source": [
    "There are only 4 reviews from the top rated location based on Average Sentiment Score. So we have a small sample size, and it also has a review with a sentiment score of 1, which is greatly impacting the Average Sentiment Score.\n",
    "\n",
    "To determine which locations are the highest (and lowest) rated, we want locations with a legitimate sample size, so that the Average Sentiment Score isn't skewed by one really good or really bad review. So let's only consider locations with at least 10 reviews for the highest and lowest rated locations."
   ]
  },
  {
   "cell_type": "code",
   "execution_count": 29,
   "metadata": {},
   "outputs": [
    {
     "data": {
      "text/html": [
       "<div>\n",
       "<style scoped>\n",
       "    .dataframe tbody tr th:only-of-type {\n",
       "        vertical-align: middle;\n",
       "    }\n",
       "\n",
       "    .dataframe tbody tr th {\n",
       "        vertical-align: top;\n",
       "    }\n",
       "\n",
       "    .dataframe thead th {\n",
       "        text-align: right;\n",
       "    }\n",
       "</style>\n",
       "<table border=\"1\" class=\"dataframe\">\n",
       "  <thead>\n",
       "    <tr style=\"text-align: right;\">\n",
       "      <th></th>\n",
       "      <th>listing_id</th>\n",
       "      <th>url</th>\n",
       "      <th>review_posted_date</th>\n",
       "      <th>review</th>\n",
       "      <th>sentiment_score</th>\n",
       "      <th>review_count</th>\n",
       "    </tr>\n",
       "  </thead>\n",
       "  <tbody>\n",
       "    <tr>\n",
       "      <th>0</th>\n",
       "      <td>2595</td>\n",
       "      <td>https://www.airbnb.com/rooms/2595</td>\n",
       "      <td>November 2019</td>\n",
       "      <td>Great location, convenient to everything. Very...</td>\n",
       "      <td>0.63</td>\n",
       "      <td>48</td>\n",
       "    </tr>\n",
       "    <tr>\n",
       "      <th>1</th>\n",
       "      <td>2595</td>\n",
       "      <td>https://www.airbnb.com/rooms/2595</td>\n",
       "      <td>May 2019</td>\n",
       "      <td>Place was so cute and comfy! Host was great an...</td>\n",
       "      <td>0.46</td>\n",
       "      <td>48</td>\n",
       "    </tr>\n",
       "    <tr>\n",
       "      <th>2</th>\n",
       "      <td>2595</td>\n",
       "      <td>https://www.airbnb.com/rooms/2595</td>\n",
       "      <td>May 2019</td>\n",
       "      <td>10 / 10 would stay again</td>\n",
       "      <td>0.00</td>\n",
       "      <td>48</td>\n",
       "    </tr>\n",
       "    <tr>\n",
       "      <th>3</th>\n",
       "      <td>2595</td>\n",
       "      <td>https://www.airbnb.com/rooms/2595</td>\n",
       "      <td>January 2019</td>\n",
       "      <td>The apartment met expectations to how it was i...</td>\n",
       "      <td>0.08</td>\n",
       "      <td>48</td>\n",
       "    </tr>\n",
       "    <tr>\n",
       "      <th>4</th>\n",
       "      <td>2595</td>\n",
       "      <td>https://www.airbnb.com/rooms/2595</td>\n",
       "      <td>December 2018</td>\n",
       "      <td>Great space in a fun old building in NYC. Love...</td>\n",
       "      <td>0.48</td>\n",
       "      <td>48</td>\n",
       "    </tr>\n",
       "  </tbody>\n",
       "</table>\n",
       "</div>"
      ],
      "text/plain": [
       "   listing_id                                url review_posted_date  \\\n",
       "0        2595  https://www.airbnb.com/rooms/2595      November 2019   \n",
       "1        2595  https://www.airbnb.com/rooms/2595           May 2019   \n",
       "2        2595  https://www.airbnb.com/rooms/2595           May 2019   \n",
       "3        2595  https://www.airbnb.com/rooms/2595       January 2019   \n",
       "4        2595  https://www.airbnb.com/rooms/2595      December 2018   \n",
       "\n",
       "                                              review  sentiment_score  \\\n",
       "0  Great location, convenient to everything. Very...             0.63   \n",
       "1  Place was so cute and comfy! Host was great an...             0.46   \n",
       "2                           10 / 10 would stay again             0.00   \n",
       "3  The apartment met expectations to how it was i...             0.08   \n",
       "4  Great space in a fun old building in NYC. Love...             0.48   \n",
       "\n",
       "   review_count  \n",
       "0            48  \n",
       "1            48  \n",
       "2            48  \n",
       "3            48  \n",
       "4            48  "
      ]
     },
     "execution_count": 29,
     "metadata": {},
     "output_type": "execute_result"
    }
   ],
   "source": [
    "#filter out locations with less than 10 reviews\n",
    "airbnb2 = airbnb[airbnb['review_count'] > 9]\n",
    "airbnb2.head()"
   ]
  },
  {
   "cell_type": "code",
   "execution_count": 30,
   "metadata": {},
   "outputs": [
    {
     "data": {
      "text/plain": [
       "173"
      ]
     },
     "execution_count": 30,
     "metadata": {},
     "output_type": "execute_result"
    }
   ],
   "source": [
    "#check how many reviews are in new dataframe\n",
    "len(airbnb2['listing_id'].unique())"
   ]
  },
  {
   "cell_type": "code",
   "execution_count": 31,
   "metadata": {},
   "outputs": [
    {
     "data": {
      "text/html": [
       "<div>\n",
       "<style scoped>\n",
       "    .dataframe tbody tr th:only-of-type {\n",
       "        vertical-align: middle;\n",
       "    }\n",
       "\n",
       "    .dataframe tbody tr th {\n",
       "        vertical-align: top;\n",
       "    }\n",
       "\n",
       "    .dataframe thead th {\n",
       "        text-align: right;\n",
       "    }\n",
       "</style>\n",
       "<table border=\"1\" class=\"dataframe\">\n",
       "  <thead>\n",
       "    <tr style=\"text-align: right;\">\n",
       "      <th></th>\n",
       "      <th>sentiment_score</th>\n",
       "      <th>review_count</th>\n",
       "    </tr>\n",
       "    <tr>\n",
       "      <th>listing_id</th>\n",
       "      <th></th>\n",
       "      <th></th>\n",
       "    </tr>\n",
       "  </thead>\n",
       "  <tbody>\n",
       "    <tr>\n",
       "      <th>2595</th>\n",
       "      <td>0.337500</td>\n",
       "      <td>48</td>\n",
       "    </tr>\n",
       "    <tr>\n",
       "      <th>5121</th>\n",
       "      <td>0.423600</td>\n",
       "      <td>50</td>\n",
       "    </tr>\n",
       "    <tr>\n",
       "      <th>5178</th>\n",
       "      <td>0.394416</td>\n",
       "      <td>231</td>\n",
       "    </tr>\n",
       "    <tr>\n",
       "      <th>5203</th>\n",
       "      <td>0.424407</td>\n",
       "      <td>118</td>\n",
       "    </tr>\n",
       "    <tr>\n",
       "      <th>5803</th>\n",
       "      <td>0.411019</td>\n",
       "      <td>206</td>\n",
       "    </tr>\n",
       "    <tr>\n",
       "      <th>...</th>\n",
       "      <td>...</td>\n",
       "      <td>...</td>\n",
       "    </tr>\n",
       "    <tr>\n",
       "      <th>1893225</th>\n",
       "      <td>0.384583</td>\n",
       "      <td>24</td>\n",
       "    </tr>\n",
       "    <tr>\n",
       "      <th>1897447</th>\n",
       "      <td>0.385714</td>\n",
       "      <td>14</td>\n",
       "    </tr>\n",
       "    <tr>\n",
       "      <th>1901357</th>\n",
       "      <td>0.427619</td>\n",
       "      <td>21</td>\n",
       "    </tr>\n",
       "    <tr>\n",
       "      <th>1914185</th>\n",
       "      <td>0.378636</td>\n",
       "      <td>22</td>\n",
       "    </tr>\n",
       "    <tr>\n",
       "      <th>1914231</th>\n",
       "      <td>0.373929</td>\n",
       "      <td>28</td>\n",
       "    </tr>\n",
       "  </tbody>\n",
       "</table>\n",
       "<p>173 rows × 2 columns</p>\n",
       "</div>"
      ],
      "text/plain": [
       "            sentiment_score  review_count\n",
       "listing_id                               \n",
       "2595               0.337500            48\n",
       "5121               0.423600            50\n",
       "5178               0.394416           231\n",
       "5203               0.424407           118\n",
       "5803               0.411019           206\n",
       "...                     ...           ...\n",
       "1893225            0.384583            24\n",
       "1897447            0.385714            14\n",
       "1901357            0.427619            21\n",
       "1914185            0.378636            22\n",
       "1914231            0.373929            28\n",
       "\n",
       "[173 rows x 2 columns]"
      ]
     },
     "execution_count": 31,
     "metadata": {},
     "output_type": "execute_result"
    }
   ],
   "source": [
    "#group df by listing_id, get avg scores of each listing_id\n",
    "avg_scores2 = airbnb2.groupby(['listing_id']).mean()\n",
    "avg_scores2"
   ]
  },
  {
   "cell_type": "code",
   "execution_count": 32,
   "metadata": {
    "collapsed": true
   },
   "outputs": [],
   "source": [
    "#reset index\n",
    "avg_scores2.reset_index(inplace=True)"
   ]
  },
  {
   "cell_type": "code",
   "execution_count": 33,
   "metadata": {},
   "outputs": [
    {
     "name": "stdout",
     "output_type": "stream",
     "text": [
      "     listing_id  sentiment_score  review_count\n",
      "0          2595         0.337500            48\n",
      "1          5121         0.423600            50\n",
      "2          5178         0.394416           231\n",
      "3          5203         0.424407           118\n",
      "4          5803         0.411019           206\n",
      "..          ...              ...           ...\n",
      "168     1893225         0.384583            24\n",
      "169     1897447         0.385714            14\n",
      "170     1901357         0.427619            21\n",
      "171     1914185         0.378636            22\n",
      "172     1914231         0.373929            28\n",
      "\n",
      "[173 rows x 3 columns]\n"
     ]
    }
   ],
   "source": [
    "#print re-indexed dataframe\n",
    "print(avg_scores2)"
   ]
  },
  {
   "cell_type": "markdown",
   "metadata": {},
   "source": [
    "### Top 5 Locations"
   ]
  },
  {
   "cell_type": "code",
   "execution_count": 34,
   "metadata": {},
   "outputs": [
    {
     "data": {
      "text/html": [
       "<div>\n",
       "<style scoped>\n",
       "    .dataframe tbody tr th:only-of-type {\n",
       "        vertical-align: middle;\n",
       "    }\n",
       "\n",
       "    .dataframe tbody tr th {\n",
       "        vertical-align: top;\n",
       "    }\n",
       "\n",
       "    .dataframe thead th {\n",
       "        text-align: right;\n",
       "    }\n",
       "</style>\n",
       "<table border=\"1\" class=\"dataframe\">\n",
       "  <thead>\n",
       "    <tr style=\"text-align: right;\">\n",
       "      <th></th>\n",
       "      <th>listing_id</th>\n",
       "      <th>sentiment_score</th>\n",
       "      <th>review_count</th>\n",
       "    </tr>\n",
       "  </thead>\n",
       "  <tbody>\n",
       "    <tr>\n",
       "      <th>132</th>\n",
       "      <td>788005</td>\n",
       "      <td>0.547368</td>\n",
       "      <td>19</td>\n",
       "    </tr>\n",
       "    <tr>\n",
       "      <th>166</th>\n",
       "      <td>1887600</td>\n",
       "      <td>0.510000</td>\n",
       "      <td>15</td>\n",
       "    </tr>\n",
       "    <tr>\n",
       "      <th>105</th>\n",
       "      <td>225354</td>\n",
       "      <td>0.482727</td>\n",
       "      <td>11</td>\n",
       "    </tr>\n",
       "    <tr>\n",
       "      <th>47</th>\n",
       "      <td>106363</td>\n",
       "      <td>0.480000</td>\n",
       "      <td>35</td>\n",
       "    </tr>\n",
       "    <tr>\n",
       "      <th>147</th>\n",
       "      <td>803778</td>\n",
       "      <td>0.458571</td>\n",
       "      <td>14</td>\n",
       "    </tr>\n",
       "  </tbody>\n",
       "</table>\n",
       "</div>"
      ],
      "text/plain": [
       "     listing_id  sentiment_score  review_count\n",
       "132      788005         0.547368            19\n",
       "166     1887600         0.510000            15\n",
       "105      225354         0.482727            11\n",
       "47       106363         0.480000            35\n",
       "147      803778         0.458571            14"
      ]
     },
     "execution_count": 34,
     "metadata": {},
     "output_type": "execute_result"
    }
   ],
   "source": [
    "#Top 5 Locations based on Avg. Sentiment Score\n",
    "top5 = avg_scores2.sort_values(by='sentiment_score', ascending=False)[['listing_id', 'sentiment_score', 'review_count']].head()\n",
    "top5"
   ]
  },
  {
   "cell_type": "markdown",
   "metadata": {},
   "source": [
    "### Bottom 5 Locations"
   ]
  },
  {
   "cell_type": "code",
   "execution_count": 35,
   "metadata": {},
   "outputs": [
    {
     "data": {
      "text/html": [
       "<div>\n",
       "<style scoped>\n",
       "    .dataframe tbody tr th:only-of-type {\n",
       "        vertical-align: middle;\n",
       "    }\n",
       "\n",
       "    .dataframe tbody tr th {\n",
       "        vertical-align: top;\n",
       "    }\n",
       "\n",
       "    .dataframe thead th {\n",
       "        text-align: right;\n",
       "    }\n",
       "</style>\n",
       "<table border=\"1\" class=\"dataframe\">\n",
       "  <thead>\n",
       "    <tr style=\"text-align: right;\">\n",
       "      <th></th>\n",
       "      <th>listing_id</th>\n",
       "      <th>sentiment_score</th>\n",
       "      <th>review_count</th>\n",
       "    </tr>\n",
       "  </thead>\n",
       "  <tbody>\n",
       "    <tr>\n",
       "      <th>111</th>\n",
       "      <td>228925</td>\n",
       "      <td>0.265455</td>\n",
       "      <td>11</td>\n",
       "    </tr>\n",
       "    <tr>\n",
       "      <th>134</th>\n",
       "      <td>789476</td>\n",
       "      <td>0.273200</td>\n",
       "      <td>25</td>\n",
       "    </tr>\n",
       "    <tr>\n",
       "      <th>54</th>\n",
       "      <td>114123</td>\n",
       "      <td>0.273824</td>\n",
       "      <td>34</td>\n",
       "    </tr>\n",
       "    <tr>\n",
       "      <th>106</th>\n",
       "      <td>225976</td>\n",
       "      <td>0.277614</td>\n",
       "      <td>88</td>\n",
       "    </tr>\n",
       "    <tr>\n",
       "      <th>136</th>\n",
       "      <td>794281</td>\n",
       "      <td>0.277826</td>\n",
       "      <td>23</td>\n",
       "    </tr>\n",
       "  </tbody>\n",
       "</table>\n",
       "</div>"
      ],
      "text/plain": [
       "     listing_id  sentiment_score  review_count\n",
       "111      228925         0.265455            11\n",
       "134      789476         0.273200            25\n",
       "54       114123         0.273824            34\n",
       "106      225976         0.277614            88\n",
       "136      794281         0.277826            23"
      ]
     },
     "execution_count": 35,
     "metadata": {},
     "output_type": "execute_result"
    }
   ],
   "source": [
    "#Bottom 5 Locations based on Avg. Sentiment Score\n",
    "bot5 = avg_scores2.sort_values(by='sentiment_score', ascending=True)[['listing_id', 'sentiment_score', 'review_count']].head()\n",
    "bot5"
   ]
  },
  {
   "cell_type": "code",
   "execution_count": 36,
   "metadata": {
    "collapsed": true
   },
   "outputs": [],
   "source": [
    "#export csv\n",
    "#top5.to_csv('top5_sent_scores.csv', index=False)"
   ]
  },
  {
   "cell_type": "code",
   "execution_count": 37,
   "metadata": {
    "collapsed": true
   },
   "outputs": [],
   "source": [
    "#export csv\n",
    "#bot5.to_csv('bot5_sent_scores.csv', index=False)"
   ]
  },
  {
   "cell_type": "markdown",
   "metadata": {
    "collapsed": true
   },
   "source": [
    "Lets look at the reviews from the top rated location."
   ]
  },
  {
   "cell_type": "code",
   "execution_count": 38,
   "metadata": {},
   "outputs": [
    {
     "data": {
      "text/html": [
       "<div>\n",
       "<style scoped>\n",
       "    .dataframe tbody tr th:only-of-type {\n",
       "        vertical-align: middle;\n",
       "    }\n",
       "\n",
       "    .dataframe tbody tr th {\n",
       "        vertical-align: top;\n",
       "    }\n",
       "\n",
       "    .dataframe thead th {\n",
       "        text-align: right;\n",
       "    }\n",
       "</style>\n",
       "<table border=\"1\" class=\"dataframe\">\n",
       "  <thead>\n",
       "    <tr style=\"text-align: right;\">\n",
       "      <th></th>\n",
       "      <th>listing_id</th>\n",
       "      <th>url</th>\n",
       "      <th>review_posted_date</th>\n",
       "      <th>review</th>\n",
       "      <th>sentiment_score</th>\n",
       "      <th>review_count</th>\n",
       "    </tr>\n",
       "  </thead>\n",
       "  <tbody>\n",
       "    <tr>\n",
       "      <th>14722</th>\n",
       "      <td>788005</td>\n",
       "      <td>https://www.airbnb.com/rooms/788005</td>\n",
       "      <td>January 2022</td>\n",
       "      <td>The place was great! Super clean and nice</td>\n",
       "      <td>0.57</td>\n",
       "      <td>19</td>\n",
       "    </tr>\n",
       "    <tr>\n",
       "      <th>14723</th>\n",
       "      <td>788005</td>\n",
       "      <td>https://www.airbnb.com/rooms/788005</td>\n",
       "      <td>August 2021</td>\n",
       "      <td>This is a lovely and well appointed apartment ...</td>\n",
       "      <td>0.54</td>\n",
       "      <td>19</td>\n",
       "    </tr>\n",
       "    <tr>\n",
       "      <th>14724</th>\n",
       "      <td>788005</td>\n",
       "      <td>https://www.airbnb.com/rooms/788005</td>\n",
       "      <td>July 2021</td>\n",
       "      <td>Beautiful apartment in a great location, perfe...</td>\n",
       "      <td>0.88</td>\n",
       "      <td>19</td>\n",
       "    </tr>\n",
       "    <tr>\n",
       "      <th>14725</th>\n",
       "      <td>788005</td>\n",
       "      <td>https://www.airbnb.com/rooms/788005</td>\n",
       "      <td>October 2020</td>\n",
       "      <td>Rita's appartment is gorgeous and is located i...</td>\n",
       "      <td>0.42</td>\n",
       "      <td>19</td>\n",
       "    </tr>\n",
       "    <tr>\n",
       "      <th>14726</th>\n",
       "      <td>788005</td>\n",
       "      <td>https://www.airbnb.com/rooms/788005</td>\n",
       "      <td>January 2020</td>\n",
       "      <td>Rita's place is so stylish and comfortable. Sh...</td>\n",
       "      <td>0.48</td>\n",
       "      <td>19</td>\n",
       "    </tr>\n",
       "    <tr>\n",
       "      <th>14727</th>\n",
       "      <td>788005</td>\n",
       "      <td>https://www.airbnb.com/rooms/788005</td>\n",
       "      <td>November 2019</td>\n",
       "      <td>This Airbnb was amazing! Perfect location and ...</td>\n",
       "      <td>0.58</td>\n",
       "      <td>19</td>\n",
       "    </tr>\n",
       "    <tr>\n",
       "      <th>14728</th>\n",
       "      <td>788005</td>\n",
       "      <td>https://www.airbnb.com/rooms/788005</td>\n",
       "      <td>November 2019</td>\n",
       "      <td>Enjoyed staying here. It was super quiet and v...</td>\n",
       "      <td>0.46</td>\n",
       "      <td>19</td>\n",
       "    </tr>\n",
       "    <tr>\n",
       "      <th>14729</th>\n",
       "      <td>788005</td>\n",
       "      <td>https://www.airbnb.com/rooms/788005</td>\n",
       "      <td>August 2019</td>\n",
       "      <td>The apartment is gorgeous and ideally situated...</td>\n",
       "      <td>0.56</td>\n",
       "      <td>19</td>\n",
       "    </tr>\n",
       "    <tr>\n",
       "      <th>14730</th>\n",
       "      <td>788005</td>\n",
       "      <td>https://www.airbnb.com/rooms/788005</td>\n",
       "      <td>March 2019</td>\n",
       "      <td>My husband and I very much enjoyed our stay wi...</td>\n",
       "      <td>0.62</td>\n",
       "      <td>19</td>\n",
       "    </tr>\n",
       "    <tr>\n",
       "      <th>14731</th>\n",
       "      <td>788005</td>\n",
       "      <td>https://www.airbnb.com/rooms/788005</td>\n",
       "      <td>March 2018</td>\n",
       "      <td>Beautiful apartment, pictures don't do it just...</td>\n",
       "      <td>0.61</td>\n",
       "      <td>19</td>\n",
       "    </tr>\n",
       "    <tr>\n",
       "      <th>14732</th>\n",
       "      <td>788005</td>\n",
       "      <td>https://www.airbnb.com/rooms/788005</td>\n",
       "      <td>February 2018</td>\n",
       "      <td>Lovely, clean, perfect. An absolutely delightf...</td>\n",
       "      <td>0.77</td>\n",
       "      <td>19</td>\n",
       "    </tr>\n",
       "    <tr>\n",
       "      <th>14733</th>\n",
       "      <td>788005</td>\n",
       "      <td>https://www.airbnb.com/rooms/788005</td>\n",
       "      <td>January 2018</td>\n",
       "      <td>Very comfortable apartment in a Prime Brooklyn...</td>\n",
       "      <td>0.65</td>\n",
       "      <td>19</td>\n",
       "    </tr>\n",
       "    <tr>\n",
       "      <th>14734</th>\n",
       "      <td>788005</td>\n",
       "      <td>https://www.airbnb.com/rooms/788005</td>\n",
       "      <td>November 2017</td>\n",
       "      <td>This apartment was perfect! Great location, su...</td>\n",
       "      <td>0.47</td>\n",
       "      <td>19</td>\n",
       "    </tr>\n",
       "    <tr>\n",
       "      <th>14735</th>\n",
       "      <td>788005</td>\n",
       "      <td>https://www.airbnb.com/rooms/788005</td>\n",
       "      <td>November 2017</td>\n",
       "      <td>Great space and location. Rita and her husband...</td>\n",
       "      <td>0.33</td>\n",
       "      <td>19</td>\n",
       "    </tr>\n",
       "    <tr>\n",
       "      <th>14736</th>\n",
       "      <td>788005</td>\n",
       "      <td>https://www.airbnb.com/rooms/788005</td>\n",
       "      <td>July 2017</td>\n",
       "      <td>We thoroughly enjoyed our stay in this clean a...</td>\n",
       "      <td>0.32</td>\n",
       "      <td>19</td>\n",
       "    </tr>\n",
       "    <tr>\n",
       "      <th>14737</th>\n",
       "      <td>788005</td>\n",
       "      <td>https://www.airbnb.com/rooms/788005</td>\n",
       "      <td>May 2017</td>\n",
       "      <td>Excellent experience. I booked Rita's apartmen...</td>\n",
       "      <td>0.38</td>\n",
       "      <td>19</td>\n",
       "    </tr>\n",
       "    <tr>\n",
       "      <th>14738</th>\n",
       "      <td>788005</td>\n",
       "      <td>https://www.airbnb.com/rooms/788005</td>\n",
       "      <td>February 2017</td>\n",
       "      <td>The apartment is spacious and beautiful (Bette...</td>\n",
       "      <td>0.55</td>\n",
       "      <td>19</td>\n",
       "    </tr>\n",
       "    <tr>\n",
       "      <th>14739</th>\n",
       "      <td>788005</td>\n",
       "      <td>https://www.airbnb.com/rooms/788005</td>\n",
       "      <td>June 2013</td>\n",
       "      <td>My family stayed at Rita place and had a great...</td>\n",
       "      <td>0.71</td>\n",
       "      <td>19</td>\n",
       "    </tr>\n",
       "    <tr>\n",
       "      <th>14740</th>\n",
       "      <td>788005</td>\n",
       "      <td>https://www.airbnb.com/rooms/788005</td>\n",
       "      <td>September 2019</td>\n",
       "      <td>Rita’s apartment is perfectly located in a saf...</td>\n",
       "      <td>0.50</td>\n",
       "      <td>19</td>\n",
       "    </tr>\n",
       "  </tbody>\n",
       "</table>\n",
       "</div>"
      ],
      "text/plain": [
       "       listing_id                                  url review_posted_date  \\\n",
       "14722      788005  https://www.airbnb.com/rooms/788005       January 2022   \n",
       "14723      788005  https://www.airbnb.com/rooms/788005        August 2021   \n",
       "14724      788005  https://www.airbnb.com/rooms/788005          July 2021   \n",
       "14725      788005  https://www.airbnb.com/rooms/788005       October 2020   \n",
       "14726      788005  https://www.airbnb.com/rooms/788005       January 2020   \n",
       "14727      788005  https://www.airbnb.com/rooms/788005      November 2019   \n",
       "14728      788005  https://www.airbnb.com/rooms/788005      November 2019   \n",
       "14729      788005  https://www.airbnb.com/rooms/788005        August 2019   \n",
       "14730      788005  https://www.airbnb.com/rooms/788005         March 2019   \n",
       "14731      788005  https://www.airbnb.com/rooms/788005         March 2018   \n",
       "14732      788005  https://www.airbnb.com/rooms/788005      February 2018   \n",
       "14733      788005  https://www.airbnb.com/rooms/788005       January 2018   \n",
       "14734      788005  https://www.airbnb.com/rooms/788005      November 2017   \n",
       "14735      788005  https://www.airbnb.com/rooms/788005      November 2017   \n",
       "14736      788005  https://www.airbnb.com/rooms/788005          July 2017   \n",
       "14737      788005  https://www.airbnb.com/rooms/788005           May 2017   \n",
       "14738      788005  https://www.airbnb.com/rooms/788005      February 2017   \n",
       "14739      788005  https://www.airbnb.com/rooms/788005          June 2013   \n",
       "14740      788005  https://www.airbnb.com/rooms/788005     September 2019   \n",
       "\n",
       "                                                  review  sentiment_score  \\\n",
       "14722          The place was great! Super clean and nice             0.57   \n",
       "14723  This is a lovely and well appointed apartment ...             0.54   \n",
       "14724  Beautiful apartment in a great location, perfe...             0.88   \n",
       "14725  Rita's appartment is gorgeous and is located i...             0.42   \n",
       "14726  Rita's place is so stylish and comfortable. Sh...             0.48   \n",
       "14727  This Airbnb was amazing! Perfect location and ...             0.58   \n",
       "14728  Enjoyed staying here. It was super quiet and v...             0.46   \n",
       "14729  The apartment is gorgeous and ideally situated...             0.56   \n",
       "14730  My husband and I very much enjoyed our stay wi...             0.62   \n",
       "14731  Beautiful apartment, pictures don't do it just...             0.61   \n",
       "14732  Lovely, clean, perfect. An absolutely delightf...             0.77   \n",
       "14733  Very comfortable apartment in a Prime Brooklyn...             0.65   \n",
       "14734  This apartment was perfect! Great location, su...             0.47   \n",
       "14735  Great space and location. Rita and her husband...             0.33   \n",
       "14736  We thoroughly enjoyed our stay in this clean a...             0.32   \n",
       "14737  Excellent experience. I booked Rita's apartmen...             0.38   \n",
       "14738  The apartment is spacious and beautiful (Bette...             0.55   \n",
       "14739  My family stayed at Rita place and had a great...             0.71   \n",
       "14740  Rita’s apartment is perfectly located in a saf...             0.50   \n",
       "\n",
       "       review_count  \n",
       "14722            19  \n",
       "14723            19  \n",
       "14724            19  \n",
       "14725            19  \n",
       "14726            19  \n",
       "14727            19  \n",
       "14728            19  \n",
       "14729            19  \n",
       "14730            19  \n",
       "14731            19  \n",
       "14732            19  \n",
       "14733            19  \n",
       "14734            19  \n",
       "14735            19  \n",
       "14736            19  \n",
       "14737            19  \n",
       "14738            19  \n",
       "14739            19  \n",
       "14740            19  "
      ]
     },
     "execution_count": 38,
     "metadata": {},
     "output_type": "execute_result"
    }
   ],
   "source": [
    "#reviews from highest rated location (listing_id=788005)\n",
    "loc = airbnb2[airbnb2['listing_id'] == 788005]\n",
    "loc"
   ]
  },
  {
   "cell_type": "code",
   "execution_count": 39,
   "metadata": {},
   "outputs": [
    {
     "data": {
      "text/html": [
       "<div>\n",
       "<style scoped>\n",
       "    .dataframe tbody tr th:only-of-type {\n",
       "        vertical-align: middle;\n",
       "    }\n",
       "\n",
       "    .dataframe tbody tr th {\n",
       "        vertical-align: top;\n",
       "    }\n",
       "\n",
       "    .dataframe thead th {\n",
       "        text-align: right;\n",
       "    }\n",
       "</style>\n",
       "<table border=\"1\" class=\"dataframe\">\n",
       "  <thead>\n",
       "    <tr style=\"text-align: right;\">\n",
       "      <th></th>\n",
       "      <th>listing_id</th>\n",
       "      <th>sentiment_score</th>\n",
       "      <th>review_count</th>\n",
       "    </tr>\n",
       "  </thead>\n",
       "  <tbody>\n",
       "    <tr>\n",
       "      <th>count</th>\n",
       "      <td>19.0</td>\n",
       "      <td>19.000000</td>\n",
       "      <td>19.0</td>\n",
       "    </tr>\n",
       "    <tr>\n",
       "      <th>mean</th>\n",
       "      <td>788005.0</td>\n",
       "      <td>0.547368</td>\n",
       "      <td>19.0</td>\n",
       "    </tr>\n",
       "    <tr>\n",
       "      <th>std</th>\n",
       "      <td>0.0</td>\n",
       "      <td>0.143714</td>\n",
       "      <td>0.0</td>\n",
       "    </tr>\n",
       "    <tr>\n",
       "      <th>min</th>\n",
       "      <td>788005.0</td>\n",
       "      <td>0.320000</td>\n",
       "      <td>19.0</td>\n",
       "    </tr>\n",
       "    <tr>\n",
       "      <th>25%</th>\n",
       "      <td>788005.0</td>\n",
       "      <td>0.465000</td>\n",
       "      <td>19.0</td>\n",
       "    </tr>\n",
       "    <tr>\n",
       "      <th>50%</th>\n",
       "      <td>788005.0</td>\n",
       "      <td>0.550000</td>\n",
       "      <td>19.0</td>\n",
       "    </tr>\n",
       "    <tr>\n",
       "      <th>75%</th>\n",
       "      <td>788005.0</td>\n",
       "      <td>0.615000</td>\n",
       "      <td>19.0</td>\n",
       "    </tr>\n",
       "    <tr>\n",
       "      <th>max</th>\n",
       "      <td>788005.0</td>\n",
       "      <td>0.880000</td>\n",
       "      <td>19.0</td>\n",
       "    </tr>\n",
       "  </tbody>\n",
       "</table>\n",
       "</div>"
      ],
      "text/plain": [
       "       listing_id  sentiment_score  review_count\n",
       "count        19.0        19.000000          19.0\n",
       "mean     788005.0         0.547368          19.0\n",
       "std           0.0         0.143714           0.0\n",
       "min      788005.0         0.320000          19.0\n",
       "25%      788005.0         0.465000          19.0\n",
       "50%      788005.0         0.550000          19.0\n",
       "75%      788005.0         0.615000          19.0\n",
       "max      788005.0         0.880000          19.0"
      ]
     },
     "execution_count": 39,
     "metadata": {},
     "output_type": "execute_result"
    }
   ],
   "source": [
    "#describe scores for listing_id=788005\n",
    "loc.describe()"
   ]
  },
  {
   "cell_type": "code",
   "execution_count": 40,
   "metadata": {},
   "outputs": [
    {
     "data": {
      "image/png": "[encoded data removed]",
      "text/plain": [
       "<matplotlib.figure.Figure at 0x1d38afefba8>"
      ]
     },
     "metadata": {},
     "output_type": "display_data"
    }
   ],
   "source": [
    "#distribution of sentiment scores for listing_id=788005\n",
    "plt.hist(loc['sentiment_score'], bins=5)\n",
    "plt.title('Distribution of Sentiment Score for listing_id=788005')\n",
    "plt.xlabel('Sentiment Score')\n",
    "plt.ylabel('Density')\n",
    "plt.show()"
   ]
  },
  {
   "cell_type": "markdown",
   "metadata": {},
   "source": [
    "Based on this summary of the top rated location based on Average Sentiment Score, we can see that all of the 19 reviews for this location have a positive sentiment score. There are no perfect ratings of 1 that are skewing the results and we have a much better sample size after we filtered out all the listing_ids with less than 10 reviews."
   ]
  },
  {
   "cell_type": "markdown",
   "metadata": {},
   "source": [
    "Now let's look at the worst rated location."
   ]
  },
  {
   "cell_type": "code",
   "execution_count": 41,
   "metadata": {},
   "outputs": [
    {
     "data": {
      "text/html": [
       "<div>\n",
       "<style scoped>\n",
       "    .dataframe tbody tr th:only-of-type {\n",
       "        vertical-align: middle;\n",
       "    }\n",
       "\n",
       "    .dataframe tbody tr th {\n",
       "        vertical-align: top;\n",
       "    }\n",
       "\n",
       "    .dataframe thead th {\n",
       "        text-align: right;\n",
       "    }\n",
       "</style>\n",
       "<table border=\"1\" class=\"dataframe\">\n",
       "  <thead>\n",
       "    <tr style=\"text-align: right;\">\n",
       "      <th></th>\n",
       "      <th>listing_id</th>\n",
       "      <th>url</th>\n",
       "      <th>review_posted_date</th>\n",
       "      <th>review</th>\n",
       "      <th>sentiment_score</th>\n",
       "      <th>review_count</th>\n",
       "    </tr>\n",
       "  </thead>\n",
       "  <tbody>\n",
       "    <tr>\n",
       "      <th>12844</th>\n",
       "      <td>228925</td>\n",
       "      <td>https://www.airbnb.com/rooms/228925</td>\n",
       "      <td>December 2017</td>\n",
       "      <td>Marceline was very accommodating during my sta...</td>\n",
       "      <td>0.13</td>\n",
       "      <td>11</td>\n",
       "    </tr>\n",
       "    <tr>\n",
       "      <th>12845</th>\n",
       "      <td>228925</td>\n",
       "      <td>https://www.airbnb.com/rooms/228925</td>\n",
       "      <td>April 2017</td>\n",
       "      <td>Zachery, I am glad that you where satisfied wi...</td>\n",
       "      <td>0.60</td>\n",
       "      <td>11</td>\n",
       "    </tr>\n",
       "    <tr>\n",
       "      <th>12846</th>\n",
       "      <td>228925</td>\n",
       "      <td>https://www.airbnb.com/rooms/228925</td>\n",
       "      <td>October 2016</td>\n",
       "      <td>The host canceled this reservation 19 days bef...</td>\n",
       "      <td>0.00</td>\n",
       "      <td>11</td>\n",
       "    </tr>\n",
       "    <tr>\n",
       "      <th>12847</th>\n",
       "      <td>228925</td>\n",
       "      <td>https://www.airbnb.com/rooms/228925</td>\n",
       "      <td>July 2021</td>\n",
       "      <td>Marceline was a great host - super accommodati...</td>\n",
       "      <td>0.19</td>\n",
       "      <td>11</td>\n",
       "    </tr>\n",
       "    <tr>\n",
       "      <th>12848</th>\n",
       "      <td>228925</td>\n",
       "      <td>https://www.airbnb.com/rooms/228925</td>\n",
       "      <td>June 2019</td>\n",
       "      <td>Marceline is very accommodating and is very we...</td>\n",
       "      <td>0.32</td>\n",
       "      <td>11</td>\n",
       "    </tr>\n",
       "    <tr>\n",
       "      <th>12849</th>\n",
       "      <td>228925</td>\n",
       "      <td>https://www.airbnb.com/rooms/228925</td>\n",
       "      <td>April 2019</td>\n",
       "      <td>Marceline was the perfect host, making us welc...</td>\n",
       "      <td>0.49</td>\n",
       "      <td>11</td>\n",
       "    </tr>\n",
       "    <tr>\n",
       "      <th>12850</th>\n",
       "      <td>228925</td>\n",
       "      <td>https://www.airbnb.com/rooms/228925</td>\n",
       "      <td>January 2018</td>\n",
       "      <td>This apartement is located in the heart of Bro...</td>\n",
       "      <td>0.22</td>\n",
       "      <td>11</td>\n",
       "    </tr>\n",
       "    <tr>\n",
       "      <th>12851</th>\n",
       "      <td>228925</td>\n",
       "      <td>https://www.airbnb.com/rooms/228925</td>\n",
       "      <td>July 2017</td>\n",
       "      <td>We really enjoyed our stay at Marceline's deli...</td>\n",
       "      <td>0.52</td>\n",
       "      <td>11</td>\n",
       "    </tr>\n",
       "    <tr>\n",
       "      <th>12852</th>\n",
       "      <td>228925</td>\n",
       "      <td>https://www.airbnb.com/rooms/228925</td>\n",
       "      <td>April 2017</td>\n",
       "      <td>Hello Dianne, It was my pleasure hosting you a...</td>\n",
       "      <td>0.45</td>\n",
       "      <td>11</td>\n",
       "    </tr>\n",
       "    <tr>\n",
       "      <th>12853</th>\n",
       "      <td>228925</td>\n",
       "      <td>https://www.airbnb.com/rooms/228925</td>\n",
       "      <td>June 2017</td>\n",
       "      <td>The host canceled this reservation 64 days bef...</td>\n",
       "      <td>0.00</td>\n",
       "      <td>11</td>\n",
       "    </tr>\n",
       "    <tr>\n",
       "      <th>12854</th>\n",
       "      <td>228925</td>\n",
       "      <td>https://www.airbnb.com/rooms/228925</td>\n",
       "      <td>January 2017</td>\n",
       "      <td>The host canceled this reservation 11 days bef...</td>\n",
       "      <td>0.00</td>\n",
       "      <td>11</td>\n",
       "    </tr>\n",
       "  </tbody>\n",
       "</table>\n",
       "</div>"
      ],
      "text/plain": [
       "       listing_id                                  url review_posted_date  \\\n",
       "12844      228925  https://www.airbnb.com/rooms/228925      December 2017   \n",
       "12845      228925  https://www.airbnb.com/rooms/228925         April 2017   \n",
       "12846      228925  https://www.airbnb.com/rooms/228925       October 2016   \n",
       "12847      228925  https://www.airbnb.com/rooms/228925          July 2021   \n",
       "12848      228925  https://www.airbnb.com/rooms/228925          June 2019   \n",
       "12849      228925  https://www.airbnb.com/rooms/228925         April 2019   \n",
       "12850      228925  https://www.airbnb.com/rooms/228925       January 2018   \n",
       "12851      228925  https://www.airbnb.com/rooms/228925          July 2017   \n",
       "12852      228925  https://www.airbnb.com/rooms/228925         April 2017   \n",
       "12853      228925  https://www.airbnb.com/rooms/228925          June 2017   \n",
       "12854      228925  https://www.airbnb.com/rooms/228925       January 2017   \n",
       "\n",
       "                                                  review  sentiment_score  \\\n",
       "12844  Marceline was very accommodating during my sta...             0.13   \n",
       "12845  Zachery, I am glad that you where satisfied wi...             0.60   \n",
       "12846  The host canceled this reservation 19 days bef...             0.00   \n",
       "12847  Marceline was a great host - super accommodati...             0.19   \n",
       "12848  Marceline is very accommodating and is very we...             0.32   \n",
       "12849  Marceline was the perfect host, making us welc...             0.49   \n",
       "12850  This apartement is located in the heart of Bro...             0.22   \n",
       "12851  We really enjoyed our stay at Marceline's deli...             0.52   \n",
       "12852  Hello Dianne, It was my pleasure hosting you a...             0.45   \n",
       "12853  The host canceled this reservation 64 days bef...             0.00   \n",
       "12854  The host canceled this reservation 11 days bef...             0.00   \n",
       "\n",
       "       review_count  \n",
       "12844            11  \n",
       "12845            11  \n",
       "12846            11  \n",
       "12847            11  \n",
       "12848            11  \n",
       "12849            11  \n",
       "12850            11  \n",
       "12851            11  \n",
       "12852            11  \n",
       "12853            11  \n",
       "12854            11  "
      ]
     },
     "execution_count": 41,
     "metadata": {},
     "output_type": "execute_result"
    }
   ],
   "source": [
    "#reviews from bottom rated location\n",
    "loc = airbnb2[airbnb2['listing_id'] == 228925]\n",
    "loc"
   ]
  },
  {
   "cell_type": "code",
   "execution_count": 42,
   "metadata": {},
   "outputs": [
    {
     "data": {
      "text/html": [
       "<div>\n",
       "<style scoped>\n",
       "    .dataframe tbody tr th:only-of-type {\n",
       "        vertical-align: middle;\n",
       "    }\n",
       "\n",
       "    .dataframe tbody tr th {\n",
       "        vertical-align: top;\n",
       "    }\n",
       "\n",
       "    .dataframe thead th {\n",
       "        text-align: right;\n",
       "    }\n",
       "</style>\n",
       "<table border=\"1\" class=\"dataframe\">\n",
       "  <thead>\n",
       "    <tr style=\"text-align: right;\">\n",
       "      <th></th>\n",
       "      <th>listing_id</th>\n",
       "      <th>sentiment_score</th>\n",
       "      <th>review_count</th>\n",
       "    </tr>\n",
       "  </thead>\n",
       "  <tbody>\n",
       "    <tr>\n",
       "      <th>count</th>\n",
       "      <td>11.0</td>\n",
       "      <td>11.000000</td>\n",
       "      <td>11.0</td>\n",
       "    </tr>\n",
       "    <tr>\n",
       "      <th>mean</th>\n",
       "      <td>228925.0</td>\n",
       "      <td>0.265455</td>\n",
       "      <td>11.0</td>\n",
       "    </tr>\n",
       "    <tr>\n",
       "      <th>std</th>\n",
       "      <td>0.0</td>\n",
       "      <td>0.223981</td>\n",
       "      <td>0.0</td>\n",
       "    </tr>\n",
       "    <tr>\n",
       "      <th>min</th>\n",
       "      <td>228925.0</td>\n",
       "      <td>0.000000</td>\n",
       "      <td>11.0</td>\n",
       "    </tr>\n",
       "    <tr>\n",
       "      <th>25%</th>\n",
       "      <td>228925.0</td>\n",
       "      <td>0.065000</td>\n",
       "      <td>11.0</td>\n",
       "    </tr>\n",
       "    <tr>\n",
       "      <th>50%</th>\n",
       "      <td>228925.0</td>\n",
       "      <td>0.220000</td>\n",
       "      <td>11.0</td>\n",
       "    </tr>\n",
       "    <tr>\n",
       "      <th>75%</th>\n",
       "      <td>228925.0</td>\n",
       "      <td>0.470000</td>\n",
       "      <td>11.0</td>\n",
       "    </tr>\n",
       "    <tr>\n",
       "      <th>max</th>\n",
       "      <td>228925.0</td>\n",
       "      <td>0.600000</td>\n",
       "      <td>11.0</td>\n",
       "    </tr>\n",
       "  </tbody>\n",
       "</table>\n",
       "</div>"
      ],
      "text/plain": [
       "       listing_id  sentiment_score  review_count\n",
       "count        11.0        11.000000          11.0\n",
       "mean     228925.0         0.265455          11.0\n",
       "std           0.0         0.223981           0.0\n",
       "min      228925.0         0.000000          11.0\n",
       "25%      228925.0         0.065000          11.0\n",
       "50%      228925.0         0.220000          11.0\n",
       "75%      228925.0         0.470000          11.0\n",
       "max      228925.0         0.600000          11.0"
      ]
     },
     "execution_count": 42,
     "metadata": {},
     "output_type": "execute_result"
    }
   ],
   "source": [
    "#describe scores for listing_id=228925\n",
    "loc.describe()"
   ]
  },
  {
   "cell_type": "code",
   "execution_count": 43,
   "metadata": {},
   "outputs": [
    {
     "data": {
      "image/png": "[encoded data removed]",
      "text/plain": [
       "<matplotlib.figure.Figure at 0x1d38afc6fd0>"
      ]
     },
     "metadata": {},
     "output_type": "display_data"
    }
   ],
   "source": [
    "#distribution of sentiment scores for listing_id=228925\n",
    "plt.hist(loc['sentiment_score'], bins=6)\n",
    "plt.title('Distribution of Sentiment Score for listing_id=228925')\n",
    "plt.xlabel('Sentiment Score')\n",
    "plt.ylabel('Density')\n",
    "plt.show()"
   ]
  },
  {
   "cell_type": "markdown",
   "metadata": {},
   "source": [
    "Based on the summary of the lowest rated location based on Average Sentiment Score, The most populated bin in the distribution histogram is 0.0. A quick look at the reviews for this location (cell 41 output) tells us that in all three reviews with a 0.0 sentiment_score, the host cancelled the reservation. Let's take a look at one."
   ]
  },
  {
   "cell_type": "code",
   "execution_count": 44,
   "metadata": {},
   "outputs": [
    {
     "name": "stdout",
     "output_type": "stream",
     "text": [
      "Review:  The host canceled this reservation 11 days before arrival. This is an automated posting.\n",
      "Sentiment Score:  0.0\n"
     ]
    }
   ],
   "source": [
    "#review from lowest rated location\n",
    "print(\"Review: \", loc['review'][12854])\n",
    "print(\"Sentiment Score: \", loc['sentiment_score'][12854])"
   ]
  },
  {
   "cell_type": "markdown",
   "metadata": {},
   "source": [
    "The idea that the host canceled a reservation seems negative from the perspective of the reviewer, but this review is actually an objective statement of fact. There is no sentiment in either direction in this review, which explains it's sentiment and subjectivity scores of 0.0."
   ]
  },
  {
   "cell_type": "markdown",
   "metadata": {
    "collapsed": true
   },
   "source": [
    "Now that we have the best and worst rated locations based on Average Sentiment Scores, let's look at the distribution of Average Sentiment Scores for locations with 10 or more reviews."
   ]
  },
  {
   "cell_type": "code",
   "execution_count": 45,
   "metadata": {},
   "outputs": [
    {
     "data": {
      "image/png": "[encoded data removed]",
      "text/plain": [
       "<matplotlib.figure.Figure at 0x1d38afbf198>"
      ]
     },
     "metadata": {},
     "output_type": "display_data"
    }
   ],
   "source": [
    "#distribution of sentiment scores for locations with 10+ reviews\n",
    "plt.hist(avg_scores2['sentiment_score'], bins=10)\n",
    "plt.title('Distribution of Avg. Location Sentiment Score for Locations w/ 10+ Reviews')\n",
    "plt.xlabel('Sentiment Score')\n",
    "plt.xticks([0.2,0.3,0.4,0.5,0.6])\n",
    "plt.ylabel('Density')\n",
    "#plt.annotate()\n",
    "plt.show()"
   ]
  },
  {
   "cell_type": "code",
   "execution_count": 46,
   "metadata": {},
   "outputs": [
    {
     "data": {
      "text/html": [
       "<div>\n",
       "<style scoped>\n",
       "    .dataframe tbody tr th:only-of-type {\n",
       "        vertical-align: middle;\n",
       "    }\n",
       "\n",
       "    .dataframe tbody tr th {\n",
       "        vertical-align: top;\n",
       "    }\n",
       "\n",
       "    .dataframe thead th {\n",
       "        text-align: right;\n",
       "    }\n",
       "</style>\n",
       "<table border=\"1\" class=\"dataframe\">\n",
       "  <thead>\n",
       "    <tr style=\"text-align: right;\">\n",
       "      <th></th>\n",
       "      <th>listing_id</th>\n",
       "      <th>sentiment_score</th>\n",
       "      <th>review_count</th>\n",
       "    </tr>\n",
       "  </thead>\n",
       "  <tbody>\n",
       "    <tr>\n",
       "      <th>count</th>\n",
       "      <td>1.730000e+02</td>\n",
       "      <td>173.000000</td>\n",
       "      <td>173.000000</td>\n",
       "    </tr>\n",
       "    <tr>\n",
       "      <th>mean</th>\n",
       "      <td>3.947742e+05</td>\n",
       "      <td>0.386513</td>\n",
       "      <td>99.387283</td>\n",
       "    </tr>\n",
       "    <tr>\n",
       "      <th>std</th>\n",
       "      <td>5.236711e+05</td>\n",
       "      <td>0.047302</td>\n",
       "      <td>101.825348</td>\n",
       "    </tr>\n",
       "    <tr>\n",
       "      <th>min</th>\n",
       "      <td>2.595000e+03</td>\n",
       "      <td>0.265455</td>\n",
       "      <td>10.000000</td>\n",
       "    </tr>\n",
       "    <tr>\n",
       "      <th>25%</th>\n",
       "      <td>1.003680e+05</td>\n",
       "      <td>0.355978</td>\n",
       "      <td>28.000000</td>\n",
       "    </tr>\n",
       "    <tr>\n",
       "      <th>50%</th>\n",
       "      <td>2.058670e+05</td>\n",
       "      <td>0.391250</td>\n",
       "      <td>59.000000</td>\n",
       "    </tr>\n",
       "    <tr>\n",
       "      <th>75%</th>\n",
       "      <td>2.455440e+05</td>\n",
       "      <td>0.418667</td>\n",
       "      <td>148.000000</td>\n",
       "    </tr>\n",
       "    <tr>\n",
       "      <th>max</th>\n",
       "      <td>1.914231e+06</td>\n",
       "      <td>0.547368</td>\n",
       "      <td>630.000000</td>\n",
       "    </tr>\n",
       "  </tbody>\n",
       "</table>\n",
       "</div>"
      ],
      "text/plain": [
       "         listing_id  sentiment_score  review_count\n",
       "count  1.730000e+02       173.000000    173.000000\n",
       "mean   3.947742e+05         0.386513     99.387283\n",
       "std    5.236711e+05         0.047302    101.825348\n",
       "min    2.595000e+03         0.265455     10.000000\n",
       "25%    1.003680e+05         0.355978     28.000000\n",
       "50%    2.058670e+05         0.391250     59.000000\n",
       "75%    2.455440e+05         0.418667    148.000000\n",
       "max    1.914231e+06         0.547368    630.000000"
      ]
     },
     "execution_count": 46,
     "metadata": {},
     "output_type": "execute_result"
    }
   ],
   "source": [
    "#description\n",
    "avg_scores2.describe()"
   ]
  },
  {
   "cell_type": "markdown",
   "metadata": {},
   "source": [
    "Distribution of Average Sentiment Scores for locations with 10 or more reviews is approximately normal centered around a mean of 0.39."
   ]
  },
  {
   "cell_type": "markdown",
   "metadata": {
    "collapsed": true
   },
   "source": [
    "Let's look at the distribution of review counts."
   ]
  },
  {
   "cell_type": "code",
   "execution_count": 47,
   "metadata": {},
   "outputs": [
    {
     "data": {
      "image/png": "[encoded data removed]",
      "text/plain": [
       "<matplotlib.figure.Figure at 0x1d38af81c18>"
      ]
     },
     "metadata": {},
     "output_type": "display_data"
    }
   ],
   "source": [
    "#distribution of review counts\n",
    "plt.hist(airbnb['review_count'], bins=8)\n",
    "plt.title('Distribution of Review Counts')\n",
    "plt.xlabel('Review Counts')\n",
    "#plt.xticks([0.2,0.3,0.4,0.5,0.6])\n",
    "plt.ylabel('Density')\n",
    "plt.show()"
   ]
  },
  {
   "cell_type": "markdown",
   "metadata": {
    "collapsed": true
   },
   "source": [
    "Let's look at a plot of Review Count vs. Average Sentiment Scores where each point represents a specific location from this data."
   ]
  },
  {
   "cell_type": "code",
   "execution_count": 48,
   "metadata": {},
   "outputs": [
    {
     "data": {
      "image/png": "[encoded data removed]",
      "text/plain": [
       "<matplotlib.figure.Figure at 0x1d38af37978>"
      ]
     },
     "metadata": {},
     "output_type": "display_data"
    }
   ],
   "source": [
    "#plot average sentiment score vs. review count\n",
    "plt.scatter(avg_scores['sentiment_score'], avg_scores['review_count'])\n",
    "plt.title('Average Sentiment Score vs. Review Count')\n",
    "plt.xlabel('Average Sentiment Score')\n",
    "plt.ylabel('Review Count')\n",
    "plt.show()"
   ]
  },
  {
   "cell_type": "markdown",
   "metadata": {},
   "source": [
    "This plot of Average Sentiment Score vs. Review Count shows us why we filtered out locations with less than 10 reviews. Locations with a small number of reviews tend to have outlier averages because of the small sample size. The locations with the largest number of reviews tend to converge at an Average Sentiment Score of approximately 0.4."
   ]
  },
  {
   "cell_type": "code",
   "execution_count": 49,
   "metadata": {
    "collapsed": true
   },
   "outputs": [],
   "source": [
    "#number of characters for sent_score=1 vs. other positive sent_scores\n",
    "#plot str length vs. sentiment score"
   ]
  },
  {
   "cell_type": "markdown",
   "metadata": {},
   "source": [
    "Now let's analyze the sentiment analyzer. I am going to look to see if there is a relationship between sentiment score and length of review. So I am going to count the number of characters contained in each review, and compare it against the sentiment score for each review."
   ]
  },
  {
   "cell_type": "code",
   "execution_count": 50,
   "metadata": {},
   "outputs": [
    {
     "data": {
      "text/plain": [
       "0         71\n",
       "1        216\n",
       "2         24\n",
       "3        295\n",
       "4        100\n",
       "        ... \n",
       "17439    178\n",
       "17440    234\n",
       "17441    442\n",
       "17442    102\n",
       "17443    361\n",
       "Name: review, Length: 17444, dtype: int64"
      ]
     },
     "execution_count": 50,
     "metadata": {},
     "output_type": "execute_result"
    }
   ],
   "source": [
    "#get the number of characters for each review\n",
    "airbnb['review'].str.len()"
   ]
  },
  {
   "cell_type": "code",
   "execution_count": 51,
   "metadata": {},
   "outputs": [
    {
     "data": {
      "text/html": [
       "<div>\n",
       "<style scoped>\n",
       "    .dataframe tbody tr th:only-of-type {\n",
       "        vertical-align: middle;\n",
       "    }\n",
       "\n",
       "    .dataframe tbody tr th {\n",
       "        vertical-align: top;\n",
       "    }\n",
       "\n",
       "    .dataframe thead th {\n",
       "        text-align: right;\n",
       "    }\n",
       "</style>\n",
       "<table border=\"1\" class=\"dataframe\">\n",
       "  <thead>\n",
       "    <tr style=\"text-align: right;\">\n",
       "      <th></th>\n",
       "      <th>listing_id</th>\n",
       "      <th>url</th>\n",
       "      <th>review_posted_date</th>\n",
       "      <th>review</th>\n",
       "      <th>sentiment_score</th>\n",
       "      <th>review_count</th>\n",
       "      <th>review_str_len</th>\n",
       "    </tr>\n",
       "  </thead>\n",
       "  <tbody>\n",
       "    <tr>\n",
       "      <th>0</th>\n",
       "      <td>2595</td>\n",
       "      <td>https://www.airbnb.com/rooms/2595</td>\n",
       "      <td>November 2019</td>\n",
       "      <td>Great location, convenient to everything. Very...</td>\n",
       "      <td>0.63</td>\n",
       "      <td>48</td>\n",
       "      <td>71</td>\n",
       "    </tr>\n",
       "    <tr>\n",
       "      <th>1</th>\n",
       "      <td>2595</td>\n",
       "      <td>https://www.airbnb.com/rooms/2595</td>\n",
       "      <td>May 2019</td>\n",
       "      <td>Place was so cute and comfy! Host was great an...</td>\n",
       "      <td>0.46</td>\n",
       "      <td>48</td>\n",
       "      <td>216</td>\n",
       "    </tr>\n",
       "    <tr>\n",
       "      <th>2</th>\n",
       "      <td>2595</td>\n",
       "      <td>https://www.airbnb.com/rooms/2595</td>\n",
       "      <td>May 2019</td>\n",
       "      <td>10 / 10 would stay again</td>\n",
       "      <td>0.00</td>\n",
       "      <td>48</td>\n",
       "      <td>24</td>\n",
       "    </tr>\n",
       "    <tr>\n",
       "      <th>3</th>\n",
       "      <td>2595</td>\n",
       "      <td>https://www.airbnb.com/rooms/2595</td>\n",
       "      <td>January 2019</td>\n",
       "      <td>The apartment met expectations to how it was i...</td>\n",
       "      <td>0.08</td>\n",
       "      <td>48</td>\n",
       "      <td>295</td>\n",
       "    </tr>\n",
       "    <tr>\n",
       "      <th>4</th>\n",
       "      <td>2595</td>\n",
       "      <td>https://www.airbnb.com/rooms/2595</td>\n",
       "      <td>December 2018</td>\n",
       "      <td>Great space in a fun old building in NYC. Love...</td>\n",
       "      <td>0.48</td>\n",
       "      <td>48</td>\n",
       "      <td>100</td>\n",
       "    </tr>\n",
       "  </tbody>\n",
       "</table>\n",
       "</div>"
      ],
      "text/plain": [
       "   listing_id                                url review_posted_date  \\\n",
       "0        2595  https://www.airbnb.com/rooms/2595      November 2019   \n",
       "1        2595  https://www.airbnb.com/rooms/2595           May 2019   \n",
       "2        2595  https://www.airbnb.com/rooms/2595           May 2019   \n",
       "3        2595  https://www.airbnb.com/rooms/2595       January 2019   \n",
       "4        2595  https://www.airbnb.com/rooms/2595      December 2018   \n",
       "\n",
       "                                              review  sentiment_score  \\\n",
       "0  Great location, convenient to everything. Very...             0.63   \n",
       "1  Place was so cute and comfy! Host was great an...             0.46   \n",
       "2                           10 / 10 would stay again             0.00   \n",
       "3  The apartment met expectations to how it was i...             0.08   \n",
       "4  Great space in a fun old building in NYC. Love...             0.48   \n",
       "\n",
       "   review_count  review_str_len  \n",
       "0            48              71  \n",
       "1            48             216  \n",
       "2            48              24  \n",
       "3            48             295  \n",
       "4            48             100  "
      ]
     },
     "execution_count": 51,
     "metadata": {},
     "output_type": "execute_result"
    }
   ],
   "source": [
    "#add number of characters into dataframe\n",
    "airbnb['review_str_len'] = airbnb['review'].str.len()\n",
    "airbnb.head()"
   ]
  },
  {
   "cell_type": "code",
   "execution_count": 52,
   "metadata": {},
   "outputs": [
    {
     "data": {
      "image/png": "[encoded data removed]",
      "text/plain": [
       "<matplotlib.figure.Figure at 0x1d38af24780>"
      ]
     },
     "metadata": {},
     "output_type": "display_data"
    }
   ],
   "source": [
    "#plot sentiment score vs. review count\n",
    "plt.scatter(airbnb['sentiment_score'], airbnb['review_str_len'])\n",
    "plt.title('Sentiment Score vs. Review Length')\n",
    "plt.xlabel('Sentiment Score')\n",
    "plt.ylabel('Number of Characters in Review')\n",
    "plt.xticks([-1,-0.75,-0.5,-0.25,0,0.25,0.5,0.75,1])\n",
    "plt.show()"
   ]
  },
  {
   "cell_type": "markdown",
   "metadata": {},
   "source": [
    "Here we can see that there does appear to be a relationship between number of characters and sentiment score. The more characters contained within a review, the sentiment score tends to converge at approximately 0.25."
   ]
  },
  {
   "cell_type": "markdown",
   "metadata": {},
   "source": [
    "Now let's create a wordcloud from the reviews in this dataset. A wordcloud tells us the most frequently occuring words contained within all of the reviews in this data. This could be useful for a quick visual assessment of the general sentiment of all the reviews in this data."
   ]
  },
  {
   "cell_type": "code",
   "execution_count": 53,
   "metadata": {},
   "outputs": [
    {
     "name": "stderr",
     "output_type": "stream",
     "text": [
      "C:\\Users\\clee4\\Anaconda3\\lib\\site-packages\\ipykernel_launcher.py:5: SettingWithCopyWarning: \n",
      "A value is trying to be set on a copy of a slice from a DataFrame\n",
      "\n",
      "See the caveats in the documentation: https://pandas.pydata.org/pandas-docs/stable/user_guide/indexing.html#returning-a-view-versus-a-copy\n",
      "  \"\"\"\n",
      "C:\\Users\\clee4\\Anaconda3\\lib\\site-packages\\ipykernel_launcher.py:6: SettingWithCopyWarning: \n",
      "A value is trying to be set on a copy of a slice from a DataFrame\n",
      "\n",
      "See the caveats in the documentation: https://pandas.pydata.org/pandas-docs/stable/user_guide/indexing.html#returning-a-view-versus-a-copy\n",
      "  \n"
     ]
    },
    {
     "data": {
      "text/html": [
       "<div>\n",
       "<style scoped>\n",
       "    .dataframe tbody tr th:only-of-type {\n",
       "        vertical-align: middle;\n",
       "    }\n",
       "\n",
       "    .dataframe tbody tr th {\n",
       "        vertical-align: top;\n",
       "    }\n",
       "\n",
       "    .dataframe thead th {\n",
       "        text-align: right;\n",
       "    }\n",
       "</style>\n",
       "<table border=\"1\" class=\"dataframe\">\n",
       "  <thead>\n",
       "    <tr style=\"text-align: right;\">\n",
       "      <th></th>\n",
       "      <th>listing_id</th>\n",
       "      <th>url</th>\n",
       "      <th>review_posted_date</th>\n",
       "      <th>review</th>\n",
       "      <th>sentiment_score</th>\n",
       "      <th>review_count</th>\n",
       "      <th>review_str_len</th>\n",
       "    </tr>\n",
       "  </thead>\n",
       "  <tbody>\n",
       "    <tr>\n",
       "      <th>0</th>\n",
       "      <td>2595</td>\n",
       "      <td>https://www.airbnb.com/rooms/2595</td>\n",
       "      <td>November 2019</td>\n",
       "      <td>Great location convenient to everything. Very ...</td>\n",
       "      <td>0.63</td>\n",
       "      <td>48</td>\n",
       "      <td>71</td>\n",
       "    </tr>\n",
       "    <tr>\n",
       "      <th>1</th>\n",
       "      <td>2595</td>\n",
       "      <td>https://www.airbnb.com/rooms/2595</td>\n",
       "      <td>May 2019</td>\n",
       "      <td>Place was so cute and comfy! Host was great an...</td>\n",
       "      <td>0.46</td>\n",
       "      <td>48</td>\n",
       "      <td>216</td>\n",
       "    </tr>\n",
       "    <tr>\n",
       "      <th>2</th>\n",
       "      <td>2595</td>\n",
       "      <td>https://www.airbnb.com/rooms/2595</td>\n",
       "      <td>May 2019</td>\n",
       "      <td>10 / 10 would stay again</td>\n",
       "      <td>0.00</td>\n",
       "      <td>48</td>\n",
       "      <td>24</td>\n",
       "    </tr>\n",
       "    <tr>\n",
       "      <th>3</th>\n",
       "      <td>2595</td>\n",
       "      <td>https://www.airbnb.com/rooms/2595</td>\n",
       "      <td>January 2019</td>\n",
       "      <td>The apartment met expectations to how it was i...</td>\n",
       "      <td>0.08</td>\n",
       "      <td>48</td>\n",
       "      <td>295</td>\n",
       "    </tr>\n",
       "    <tr>\n",
       "      <th>4</th>\n",
       "      <td>2595</td>\n",
       "      <td>https://www.airbnb.com/rooms/2595</td>\n",
       "      <td>December 2018</td>\n",
       "      <td>Great space in a fun old building in NYC. Love...</td>\n",
       "      <td>0.48</td>\n",
       "      <td>48</td>\n",
       "      <td>100</td>\n",
       "    </tr>\n",
       "  </tbody>\n",
       "</table>\n",
       "</div>"
      ],
      "text/plain": [
       "   listing_id                                url review_posted_date  \\\n",
       "0        2595  https://www.airbnb.com/rooms/2595      November 2019   \n",
       "1        2595  https://www.airbnb.com/rooms/2595           May 2019   \n",
       "2        2595  https://www.airbnb.com/rooms/2595           May 2019   \n",
       "3        2595  https://www.airbnb.com/rooms/2595       January 2019   \n",
       "4        2595  https://www.airbnb.com/rooms/2595      December 2018   \n",
       "\n",
       "                                              review  sentiment_score  \\\n",
       "0  Great location convenient to everything. Very ...             0.63   \n",
       "1  Place was so cute and comfy! Host was great an...             0.46   \n",
       "2                           10 / 10 would stay again             0.00   \n",
       "3  The apartment met expectations to how it was i...             0.08   \n",
       "4  Great space in a fun old building in NYC. Love...             0.48   \n",
       "\n",
       "   review_count  review_str_len  \n",
       "0            48              71  \n",
       "1            48             216  \n",
       "2            48              24  \n",
       "3            48             295  \n",
       "4            48             100  "
      ]
     },
     "execution_count": 53,
     "metadata": {},
     "output_type": "execute_result"
    }
   ],
   "source": [
    "#loop through reviews to remove commas\n",
    "#this allows me to save df to a csv file, then upload into tableau\n",
    "#commas in reviews were messing csv file when I uploaded it into tableau\n",
    "for i in range(0, len(airbnb)):\n",
    "    airbnb['review'][i] = airbnb['review'][i].replace(\",\", \"\")\n",
    "    airbnb['review'][i] = airbnb['review'][i].replace(\"\\n\",\" \")\n",
    "airbnb.head()"
   ]
  },
  {
   "cell_type": "code",
   "execution_count": 54,
   "metadata": {
    "collapsed": true
   },
   "outputs": [],
   "source": [
    "#export csv\n",
    "#airbnb.to_csv('airbnb.csv', index=False)"
   ]
  },
  {
   "cell_type": "code",
   "execution_count": 55,
   "metadata": {
    "collapsed": true
   },
   "outputs": [],
   "source": [
    "#export csv\n",
    "#airbnb10 = airbnb[airbnb['review_count'] > 9]\n",
    "#airbnb10.to_csv('airbnb_10.csv', index=False)"
   ]
  },
  {
   "cell_type": "code",
   "execution_count": 56,
   "metadata": {
    "collapsed": true
   },
   "outputs": [],
   "source": [
    "import wordcloud\n",
    "from wordcloud import WordCloud, ImageColorGenerator, STOPWORDS"
   ]
  },
  {
   "cell_type": "code",
   "execution_count": 57,
   "metadata": {},
   "outputs": [
    {
     "data": {
      "image/png": "[encoded data removed]",
      "text/plain": [
       "<matplotlib.figure.Figure at 0x1d38aea22b0>"
      ]
     },
     "metadata": {},
     "output_type": "display_data"
    }
   ],
   "source": [
    "text = airbnb['review']\n",
    "stopwords = set(STOPWORDS)\n",
    "stopwords.update([\"stay\", \"place\", \"room\", \"location\", \"stay\", \"New York\", \"NYC\", \"Brooklyn\", \"Manhattan\"])\n",
    "wc2 = WordCloud(max_words=100, stopwords=stopwords, background_color=\"white\").generate(' '.join(text))\n",
    "#generate plot\n",
    "plt.figure(figsize=(10, 10))\n",
    "plt.imshow(wc2, interpolation=\"bilinear\")\n",
    "plt.axis(\"off\")\n",
    "fig1 = plt.gcf()\n",
    "plt.show()\n",
    "#save to png\n",
    "#fig1.savefig('airbnb_wordcloud.png')"
   ]
  },
  {
   "cell_type": "markdown",
   "metadata": {},
   "source": [
    "### Conclusion"
   ]
  },
  {
   "cell_type": "markdown",
   "metadata": {},
   "source": [
    "An important note when considering insights is that we used TextBlob to analyze sentiment. And while we looked at a few individual examples of how TextBlob works in the beginning, we can't go through each review to see if it was correctly classified. So this sentiment analysis is completely dependent on the decisions made by TextBlob package. \n",
    "\n",
    "Another note is that we don't know the conditions in which this data was collected. We know that this is a dataset of Airbnb reviews that range from (2009-2022) in the NYC area. We don't know if this is the full collection of reviews, or a subset of the full collection of reviews. This is why I'm not using this data to make an inference about Airbnb as a whole. I'm only looking for the insights that can be gained from this specific set of data.\n",
    "\n",
    "After looking at the distribution of sentiment scores for the entire set of reviews, combined with the wordcloud, we see that the general sentiment in these reviews is positive. We found that 16,175 of the 17,144 reviews (92.7%) were classified as positive, 6.2% of reviews were neutral, and only 1.1% of reviews were negative. We learned that distribution of Average Sentiment Scores among locations with 10 or more reviews is approximately normal centered at a mean of 0.39. We found the 5 best and worst rated locations based on Average Sentiment Score and looked at examples of each. And we discovered the relationships between sentiment scores and review count and length. Which are that as the number of reviews for a specific location goes up, the Average Sentiment Score for that location converges at approximately 0.4 (positive, but not overwhelmingly positive). And similarly, as the number of characters in a single review increases, the sentiment score for that review converges at approximately 0.25 (also positive, but not overwhelmingly positive)."
   ]
  }
 ],
 "metadata": {
  "kernelspec": {
   "display_name": "Python 3",
   "language": "python",
   "name": "python3"
  },
  "language_info": {
   "codemirror_mode": {
    "name": "ipython",
    "version": 3
   },
   "file_extension": ".py",
   "mimetype": "text/x-python",
   "name": "python",
   "nbconvert_exporter": "python",
   "pygments_lexer": "ipython3",
   "version": "3.6.3"
  }
 },
 "nbformat": 4,
 "nbformat_minor": 2
}
